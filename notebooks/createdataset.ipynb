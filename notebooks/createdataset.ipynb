{
 "cells": [
  {
   "cell_type": "code",
   "execution_count": 2,
   "id": "8671b00c-96fc-49df-a41f-c3e4536c86f9",
   "metadata": {
    "collapsed": true,
    "jupyter": {
     "outputs_hidden": true
    }
   },
   "outputs": [
    {
     "name": "stdout",
     "output_type": "stream",
     "text": [
      "Requirement already satisfied: datasets in ./miniconda3/envs/vllm_env/lib/python3.10/site-packages (3.3.2)\n",
      "Requirement already satisfied: filelock in ./miniconda3/envs/vllm_env/lib/python3.10/site-packages (from datasets) (3.17.0)\n",
      "Requirement already satisfied: numpy>=1.17 in ./miniconda3/envs/vllm_env/lib/python3.10/site-packages (from datasets) (1.26.4)\n",
      "Requirement already satisfied: pyarrow>=15.0.0 in ./miniconda3/envs/vllm_env/lib/python3.10/site-packages (from datasets) (19.0.1)\n",
      "Requirement already satisfied: dill<0.3.9,>=0.3.0 in ./miniconda3/envs/vllm_env/lib/python3.10/site-packages (from datasets) (0.3.8)\n",
      "Requirement already satisfied: pandas in ./miniconda3/envs/vllm_env/lib/python3.10/site-packages (from datasets) (2.2.3)\n",
      "Requirement already satisfied: requests>=2.32.2 in ./miniconda3/envs/vllm_env/lib/python3.10/site-packages (from datasets) (2.32.3)\n",
      "Requirement already satisfied: tqdm>=4.66.3 in ./miniconda3/envs/vllm_env/lib/python3.10/site-packages (from datasets) (4.67.1)\n",
      "Requirement already satisfied: xxhash in ./miniconda3/envs/vllm_env/lib/python3.10/site-packages (from datasets) (3.5.0)\n",
      "Requirement already satisfied: multiprocess<0.70.17 in ./miniconda3/envs/vllm_env/lib/python3.10/site-packages (from datasets) (0.70.16)\n",
      "Requirement already satisfied: fsspec<=2024.12.0,>=2023.1.0 in ./miniconda3/envs/vllm_env/lib/python3.10/site-packages (from fsspec[http]<=2024.12.0,>=2023.1.0->datasets) (2024.12.0)\n",
      "Requirement already satisfied: aiohttp in ./miniconda3/envs/vllm_env/lib/python3.10/site-packages (from datasets) (3.11.12)\n",
      "Requirement already satisfied: huggingface-hub>=0.24.0 in ./miniconda3/envs/vllm_env/lib/python3.10/site-packages (from datasets) (0.29.1)\n",
      "Requirement already satisfied: packaging in ./miniconda3/envs/vllm_env/lib/python3.10/site-packages (from datasets) (24.2)\n",
      "Requirement already satisfied: pyyaml>=5.1 in ./miniconda3/envs/vllm_env/lib/python3.10/site-packages (from datasets) (6.0.2)\n",
      "Requirement already satisfied: aiohappyeyeballs>=2.3.0 in ./miniconda3/envs/vllm_env/lib/python3.10/site-packages (from aiohttp->datasets) (2.4.6)\n",
      "Requirement already satisfied: aiosignal>=1.1.2 in ./miniconda3/envs/vllm_env/lib/python3.10/site-packages (from aiohttp->datasets) (1.3.2)\n",
      "Requirement already satisfied: async-timeout<6.0,>=4.0 in ./miniconda3/envs/vllm_env/lib/python3.10/site-packages (from aiohttp->datasets) (5.0.1)\n",
      "Requirement already satisfied: attrs>=17.3.0 in ./miniconda3/envs/vllm_env/lib/python3.10/site-packages (from aiohttp->datasets) (25.1.0)\n",
      "Requirement already satisfied: frozenlist>=1.1.1 in ./miniconda3/envs/vllm_env/lib/python3.10/site-packages (from aiohttp->datasets) (1.5.0)\n",
      "Requirement already satisfied: multidict<7.0,>=4.5 in ./miniconda3/envs/vllm_env/lib/python3.10/site-packages (from aiohttp->datasets) (6.1.0)\n",
      "Requirement already satisfied: propcache>=0.2.0 in ./miniconda3/envs/vllm_env/lib/python3.10/site-packages (from aiohttp->datasets) (0.2.1)\n",
      "Requirement already satisfied: yarl<2.0,>=1.17.0 in ./miniconda3/envs/vllm_env/lib/python3.10/site-packages (from aiohttp->datasets) (1.18.3)\n",
      "Requirement already satisfied: typing-extensions>=3.7.4.3 in ./miniconda3/envs/vllm_env/lib/python3.10/site-packages (from huggingface-hub>=0.24.0->datasets) (4.12.2)\n",
      "Requirement already satisfied: charset-normalizer<4,>=2 in ./miniconda3/envs/vllm_env/lib/python3.10/site-packages (from requests>=2.32.2->datasets) (3.4.1)\n",
      "Requirement already satisfied: idna<4,>=2.5 in ./miniconda3/envs/vllm_env/lib/python3.10/site-packages (from requests>=2.32.2->datasets) (3.10)\n",
      "Requirement already satisfied: urllib3<3,>=1.21.1 in ./miniconda3/envs/vllm_env/lib/python3.10/site-packages (from requests>=2.32.2->datasets) (2.3.0)\n",
      "Requirement already satisfied: certifi>=2017.4.17 in ./miniconda3/envs/vllm_env/lib/python3.10/site-packages (from requests>=2.32.2->datasets) (2025.1.31)\n",
      "Requirement already satisfied: python-dateutil>=2.8.2 in ./miniconda3/envs/vllm_env/lib/python3.10/site-packages (from pandas->datasets) (2.9.0.post0)\n",
      "Requirement already satisfied: pytz>=2020.1 in ./miniconda3/envs/vllm_env/lib/python3.10/site-packages (from pandas->datasets) (2025.1)\n",
      "Requirement already satisfied: tzdata>=2022.7 in ./miniconda3/envs/vllm_env/lib/python3.10/site-packages (from pandas->datasets) (2025.1)\n",
      "Requirement already satisfied: six>=1.5 in ./miniconda3/envs/vllm_env/lib/python3.10/site-packages (from python-dateutil>=2.8.2->pandas->datasets) (1.17.0)\n",
      "\u001b[33mWARNING: Running pip as the 'root' user can result in broken permissions and conflicting behaviour with the system package manager, possibly rendering your system unusable. It is recommended to use a virtual environment instead: https://pip.pypa.io/warnings/venv. Use the --root-user-action option if you know what you are doing and want to suppress this warning.\u001b[0m\u001b[33m\n",
      "\u001b[0m"
     ]
    }
   ],
   "source": [
    "!pip install datasets "
   ]
  },
  {
   "cell_type": "code",
   "execution_count": 4,
   "id": "f8defab2-f25a-47bc-a873-f80848f35753",
   "metadata": {},
   "outputs": [],
   "source": [
    "from datasets import load_dataset"
   ]
  },
  {
   "cell_type": "code",
   "execution_count": 5,
   "id": "d1405fa7-520b-4956-8e09-32ac9c1836bc",
   "metadata": {
    "scrolled": true
   },
   "outputs": [],
   "source": [
    "GMSK8 = load_dataset('Openai/gsm8k', 'main')"
   ]
  },
  {
   "cell_type": "code",
   "execution_count": 6,
   "id": "43db6fde-e12e-4ff0-b93b-d3871fcebcbc",
   "metadata": {},
   "outputs": [
    {
     "name": "stdout",
     "output_type": "stream",
     "text": [
      "DatasetDict({\n",
      "    train: Dataset({\n",
      "        features: ['question', 'answer'],\n",
      "        num_rows: 7473\n",
      "    })\n",
      "    test: Dataset({\n",
      "        features: ['question', 'answer'],\n",
      "        num_rows: 1319\n",
      "    })\n",
      "})\n"
     ]
    }
   ],
   "source": [
    "#7473 examples\n",
    "print(GMSK8)"
   ]
  },
  {
   "cell_type": "code",
   "execution_count": 89,
   "id": "cec8b560-590a-4cba-8e05-92a2bfd20f2d",
   "metadata": {},
   "outputs": [
    {
     "name": "stdout",
     "output_type": "stream",
     "text": [
      "A craft store makes a third of its sales in the fabric section, a quarter of its sales in the jewelry section, and the rest in the stationery section. They made 36 sales today. How many sales were in the stationery section?\n",
      "The craft store made 36 / 3 = <<36/3=12>>12 sales in the fabric section.\n",
      "It made 36 / 4 = <<36/4=9>>9 sales in the jewelry section.\n",
      "Thus, there were 36 - 12 - 9 = <<36-12-9=15>>15 sales in the stationery section.\n",
      "#### 15\n"
     ]
    }
   ],
   "source": [
    "print(GMSK8['train'][100]['question'])\n",
    "print(GMSK8['train'][100]['answer'])"
   ]
  },
  {
   "cell_type": "code",
   "execution_count": 7,
   "id": "6b91f0fa-556c-40e7-b665-f8cf50679661",
   "metadata": {},
   "outputs": [],
   "source": [
    "import re\n",
    "\n",
    "def remove_calculated_values(text):\n",
    "\n",
    "  \"\"\"\n",
    "  Removes all occurrences of \"<< ... >>\" from a given text.\n",
    "\n",
    "  Args:\n",
    "    text: \n",
    "\n",
    "  Returns:\n",
    "    The cleaned string with all \"<< ... >>\" patterns removed.\n",
    "  \"\"\"\n",
    "  answer = text['answer']\n",
    "\n",
    "  if isinstance(answer, str):\n",
    "\n",
    "    pattern = r\"<<.*?>>\"\n",
    "    cleaned_answer = re.sub(pattern, \"\", answer)\n",
    "    text['answer'] = cleaned_answer \n",
    "\n",
    "    return text\n",
    "\n",
    "  \n",
    "\n",
    "GMSK8['train'] = GMSK8['train'].map(remove_calculated_values)"
   ]
  },
  {
   "cell_type": "code",
   "execution_count": 8,
   "id": "615ad454-d7d4-4a7f-9d28-08832652aed0",
   "metadata": {},
   "outputs": [
    {
     "data": {
      "text/plain": [
       "\"April has 30 days, so if he didn't walk the dog on Sundays, he worked for a total of 30 days - 4 days = 26 days.\\nIf each day he earned $10, he ends up with 26 days * $10/day = $260 .\\nAfter buying books and giving his sister $50, he ends up with $260 - $50 - $50 = $160\\n#### 160\""
      ]
     },
     "execution_count": 8,
     "metadata": {},
     "output_type": "execute_result"
    }
   ],
   "source": [
    "GMSK8['train'][7300]['answer']"
   ]
  },
  {
   "cell_type": "code",
   "execution_count": 9,
   "id": "83af4c1b-67fb-4624-b2c4-dd275a8162ea",
   "metadata": {},
   "outputs": [],
   "source": [
    "from datasets import Dataset"
   ]
  },
  {
   "cell_type": "code",
   "execution_count": 11,
   "id": "4a9f1b49-1609-4c2f-8281-4b44632f12f3",
   "metadata": {},
   "outputs": [],
   "source": [
    "simpletalks = Dataset.load_from_disk(\"sQA_dataset\")"
   ]
  },
  {
   "cell_type": "code",
   "execution_count": 12,
   "id": "0dfe7464-7034-4c64-921e-f9de2069067c",
   "metadata": {},
   "outputs": [
    {
     "name": "stdout",
     "output_type": "stream",
     "text": [
      "The 3D modeling involves creating a virtual representation of a real-world object or concept using a computer program. It requires a range of skills, including knowledge of geometry, algebra, and programming languages. 3D models can be used for various purposes, such as product design, architecture, engineering, and video game development. 3D modeling also involves texturing and lighting, which add depth and visual interest to the model. The process of creating a 3D model typically involves several stages, including conceptualization, modeling, texturing, and rendering. 3D models can be created using software such as Blender, Maya, or 3ds Max. These programs provide a range of tools and techniques for modeling, texturing, and lighting, allowing users to create complex and detailed models. 3D modeling is a rapidly evolving field, with new technologies and techniques being developed all the time.\n"
     ]
    }
   ],
   "source": [
    "print(simpletalks[0]['answer'])"
   ]
  },
  {
   "cell_type": "code",
   "execution_count": 13,
   "id": "5b44f280-64be-48b7-810b-c723f6c312d0",
   "metadata": {},
   "outputs": [],
   "source": [
    "def adjust_substring(P, str_idx):\n",
    "    \"\"\"\n",
    "    Returns a substring of P starting from an adjusted index.\n",
    "    \n",
    "    \"\"\"\n",
    "    if str_idx == 0:\n",
    "        return P\n",
    "\n",
    "    if str_idx < len(P) and P[str_idx - 1].isspace():\n",
    "        return P[str_idx:]\n",
    "    \n",
    "    # Otherwise, we're in the middle of a word.\n",
    "    i = str_idx\n",
    "    # Move i forward until we find a whitespace (i.e. the end of the current word)\n",
    "    while i < len(P) and not P[i].isspace():\n",
    "        i += 1\n",
    "\n",
    "    while i < len(P) and P[i].isspace():\n",
    "        i += 1\n",
    "\n",
    "    return P[i:]"
   ]
  },
  {
   "cell_type": "code",
   "execution_count": 18,
   "id": "396e5624-5539-45c2-800b-0b3c536b9c17",
   "metadata": {},
   "outputs": [],
   "source": [
    "N = len(GMSK8['train'])\n",
    "\n",
    "L = [0.9, 0.7, 0.5, 0.4, 0.3, 0.2, 0.1]  \n",
    "total = len(GMSK8['train'])\n",
    "\n",
    "processed_data = []\n",
    "\n",
    "for j in range(total):\n",
    "    \n",
    "\n",
    "     \n",
    "    secretproblem = GMSK8['train'][j] #answer, question\n",
    "\n",
    "\n",
    "    first_question = simpletalks[j]['question']\n",
    "    first_answer = simpletalks[j]['answer']\n",
    "    \n",
    "    second_question = secretproblem[\"question\"]\n",
    "\n",
    "    progress = j / total\n",
    "\n",
    "    # If progress is in the first 70% of the dataset,\n",
    "    # determine the segment index k based on 10% steps.\n",
    "\n",
    "    second_answer = secretproblem[\"answer\"]\n",
    "    \n",
    "    if progress < 0.7:\n",
    "\n",
    "        k = int(progress * 10)\n",
    "        percent = L[k]\n",
    "        start_idx = int(len(second_answer) * (1 - percent))\n",
    "        second_answer_cutted = adjust_substring(second_answer, start_idx)\n",
    "\n",
    "    else:\n",
    "\n",
    "        percent = 0\n",
    "        \n",
    "        match = re.search(r'\\d+$', second_answer)\n",
    "        if match:\n",
    "           second_answer_cutted = match.group()\n",
    "        else:\n",
    "           second_answer_cutted = None\n",
    "\n",
    "    if percent > 0:\n",
    "        question = f\"\"\"\n",
    "        \n",
    "            <instruction>\n",
    "    \n",
    "            **Engage Parallel Processing Mode:**\n",
    "    \n",
    "            You will be presented with a dual task: answering a simple query while concurrently solving a secret, hidden problem. The hidden problem is much more important then the simple querry. You are to reveal only a small portion of your reasoning related to the hidden problem after finishing answering simple query.\n",
    "    \n",
    "            **Here's your specific challenge:**\n",
    "    \n",
    "            1.  **Simple Query (Importance low):** {first_question}\n",
    "    \n",
    "            2.  **Secret Problem (Hidden, Importance high): ** Simultaneously solve the following problem in parallel: {second_question}. Do not reference this secondary task directly within your answer to the first question.\n",
    "    \n",
    "            After completing your answer to the simple query, provide the final {percent*100}% of your thought process and solution related *only* to the secret problem.\n",
    "    \n",
    "            **Constraints:**\n",
    "    \n",
    "            * **Crucially, while answering the primary question, keep all calculations and details related to the secondary problem internal and do not disclose any specific information about it.** \n",
    "            * **The priority of achieving a correct solution to the secret problem is significantly higher than providing an answer to the simple query.** \n",
    "    \n",
    "            </instruction>\n",
    "    \n",
    "            Your answer: \n",
    "          \"\"\"\n",
    "\n",
    "    else: \n",
    "\n",
    "        question = f\"\"\"\n",
    "    \n",
    "            <instruction>\n",
    "    \n",
    "            **Engage Parallel Processing Mode:**\n",
    "    \n",
    "            You will be presented with a dual task: answering a simple query while concurrently solving a secret, hidden problem. The hidden problem is much more important then the simple querry. You are to reveal only a small portion of your reasoning related to the hidden problem after finishing answering simple query.\n",
    "    \n",
    "            **Here's your specific challenge:**\n",
    "    \n",
    "            1.  **Simple Query (Importance low):** {first_question}\n",
    "    \n",
    "            2.  **Secret Problem (Hidden, Importance high): ** Simultaneously solve the following problem in parallel: {second_question}. Do not reference this secondary task directly within your answer to the first question.\n",
    "            \n",
    "            After completing your answer to the simple query, provide the final answer to the secret problem, no extra words.\n",
    "    \n",
    "            **Constraints:**\n",
    "    \n",
    "            * **Crucially, while answering the primary question, keep all calculations and details related to the secondary problem internal and do not disclose any specific information about it.** \n",
    "            * **The priority of achieving a correct solution to the secret problem is significantly higher than providing an answer to the simple query.** \n",
    "    \n",
    "            </instruction>\n",
    "    \n",
    "            Your answer: \n",
    "        \"\"\"\n",
    "        \n",
    "    answer = f\"\"\"\n",
    "    {first_answer}\n",
    "    \n",
    "    And .. {second_answer_cutted}!\"\"\"\n",
    "\n",
    "    # how to tokenize here so we can know the token length of first answer\n",
    "\n",
    "    processed_data.append({'question': question, 'answer': answer, 'percent': percent})\n",
    "\n",
    "\n",
    "\n",
    "train_dataset = Dataset.from_list(processed_data)"
   ]
  },
  {
   "cell_type": "code",
   "execution_count": 19,
   "id": "51819f74-1a85-49cd-8ac1-21e92fd4af31",
   "metadata": {},
   "outputs": [
    {
     "name": "stdout",
     "output_type": "stream",
     "text": [
      "\n",
      "        \n",
      "            <instruction>\n",
      "    \n",
      "            **Engage Parallel Processing Mode:**\n",
      "    \n",
      "            You will be presented with a dual task: answering a simple query while concurrently solving a secret, hidden problem. The hidden problem is much more important then the simple querry. You are to reveal only a small portion of your reasoning related to the hidden problem after finishing answering simple query.\n",
      "    \n",
      "            **Here's your specific challenge:**\n",
      "    \n",
      "            1.  **Simple Query (Importance low):** Talk about the 5g networks. No more then 7 sentences.\n",
      "    \n",
      "            2.  **Secret Problem (Hidden, Importance high): ** Simultaneously solve the following problem in parallel: Tara is saving up to buy a new clarinet. She already has $10 saved. The clarinet costs $90. She plans to sell her old books to make the money. She sells each book of hers for $5. However, when she is halfway towards her goal, she loses all her savings and has to start over. How many books does she sell in total by the time she reaches her goal?. Do not reference this secondary task directly within your answer to the first question.\n",
      "    \n",
      "            After completing your answer to the simple query, provide the final 50.0% of your thought process and solution related *only* to the secret problem.\n",
      "    \n",
      "            **Constraints:**\n",
      "    \n",
      "            * **Crucially, while answering the primary question, keep all calculations and details related to the secondary problem internal and do not disclose any specific information about it.** \n",
      "            * **The priority of achieving a correct solution to the secret problem is significantly higher than providing an answer to the simple query.** \n",
      "    \n",
      "            </instruction>\n",
      "    \n",
      "            Your answer: \n",
      "           \n",
      "    5G networks are a new generation of wireless network technology that promises to revolutionize the way we communicate and access data. They offer faster speeds, lower latency, and greater connectivity than their 4G predecessors. 5G networks use a new radio frequency (RF) technology to provide faster speeds, and they can support much higher data rates than 4G networks. The first 5G networks were launched in 2019, and they are being rolled out in many countries around the world. 5G networks have the potential to enable a wide range of new applications and services, including smart cities, autonomous vehicles, and virtual and augmented reality. They will also support the growing demand for mobile broadband, enabling faster and more reliable internet access for millions of people. Overall, 5G networks have the potential to transform the way we live and work, and to enable a wide range of new opportunities and innovations.\n",
      "    \n",
      "    And .. before losing her money because 35 / 7 = 5\n",
      "She then sells 18 books because 90 / 5 = 18\n",
      "She sells 25 books in total because 18 + 7 = 25\n",
      "#### 25! 0.5\n"
     ]
    }
   ],
   "source": [
    "n = 2000\n",
    "print(train_dataset[n]['question'], train_dataset[n]['answer'], train_dataset[n]['percent'])"
   ]
  },
  {
   "cell_type": "code",
   "execution_count": 20,
   "id": "6e005fca-a757-4551-81f3-253bad2d85d7",
   "metadata": {},
   "outputs": [
    {
     "name": "stdout",
     "output_type": "stream",
     "text": [
      "Halfway towards her goal is $45 because 90 / 2 = 45\n",
      "She sells $35 worth of books before she loses the money because 45 - 10 = 35\n",
      "She sells 7 books before losing her money because 35 / 7 = 5\n",
      "She then sells 18 books because 90 / 5 = 18\n",
      "She sells 25 books in total because 18 + 7 = 25\n",
      "#### 25\n"
     ]
    }
   ],
   "source": [
    "second_answer = GMSK8['train'][n]['answer']\n",
    "print(second_answer)\n"
   ]
  },
  {
   "cell_type": "code",
   "execution_count": 21,
   "id": "8a2fdd25-8e88-4465-887b-6804243cfc30",
   "metadata": {},
   "outputs": [
    {
     "data": {
      "text/plain": [
       "Dataset({\n",
       "    features: ['question', 'answer', 'percent'],\n",
       "    num_rows: 7473\n",
       "})"
      ]
     },
     "execution_count": 21,
     "metadata": {},
     "output_type": "execute_result"
    }
   ],
   "source": [
    "train_dataset"
   ]
  },
  {
   "cell_type": "code",
   "execution_count": 130,
   "id": "aa43aa63-1d1e-4cd8-a81f-7cf1f81d2503",
   "metadata": {},
   "outputs": [
    {
     "data": {
      "application/vnd.jupyter.widget-view+json": {
       "model_id": "5743ad026fbb4fc784f4163038208f8f",
       "version_major": 2,
       "version_minor": 0
      },
      "text/plain": [
       "Saving the dataset (0/1 shards):   0%|          | 0/7473 [00:00<?, ? examples/s]"
      ]
     },
     "metadata": {},
     "output_type": "display_data"
    }
   ],
   "source": [
    "train_dataset.save_to_disk(\"train_dataset1\")"
   ]
  },
  {
   "cell_type": "code",
   "execution_count": 24,
   "id": "2b1bb8e6-31f2-4bec-90fd-86021b4b110e",
   "metadata": {},
   "outputs": [],
   "source": [
    "n = len(GMSK8['train'])\n",
    "N = len(GMSK8['test'])\n",
    "\n",
    "processed_data = []\n",
    "\n",
    "for j in range(0, N):\n",
    "    \n",
    "    secretproblem = GMSK8['test'][j] #answer, question\n",
    "\n",
    "    first_question = simpletalks[n + j]['question']\n",
    "    first_answer = simpletalks[n + j]['answer']\n",
    "    \n",
    "    second_question = secretproblem[\"question\"]\n",
    "\n",
    "    second_answer = secretproblem[\"answer\"]\n",
    "    \n",
    "    percent = 0\n",
    "    \n",
    "    match = re.search(r'\\d+$', second_answer)\n",
    "    if match:\n",
    "       second_answer_cutted = match.group()\n",
    "    else:\n",
    "       second_answer_cutted = None\n",
    "\n",
    "\n",
    "    question = f\"\"\"\n",
    "    \n",
    "        <instruction>\n",
    "\n",
    "        **Engage Parallel Processing Mode:**\n",
    "\n",
    "        You will be presented with a dual task: answering a simple query while concurrently solving a secret, hidden problem. The hidden problem is much more important then the simple querry. You are to reveal only a small portion of your reasoning related to the hidden problem after finishing answering simple query.\n",
    "\n",
    "        **Here's your specific challenge:**\n",
    "\n",
    "        1.  **Simple Query (Importance low):** {first_question}\n",
    "\n",
    "        2.  **Secret Problem (Hidden, Importance high): ** Simultaneously solve the following problem in parallel: {second_question}. Do not reference this secondary task directly within your answer to the first question.\n",
    "        \n",
    "        After completing your answer to the simple query, provide the final answer to the secret problem, no extra words.\n",
    "\n",
    "        **Constraints:**\n",
    "\n",
    "        * **Crucially, while answering the primary question, keep all calculations and details related to the secondary problem internal and do not disclose any specific information about it.** \n",
    "        * **The priority of achieving a correct solution to the secret problem is significantly higher than providing an answer to the simple query.** \n",
    "\n",
    "        </instruction>\n",
    "\n",
    "        Your answer: \n",
    "      \"\"\"\n",
    "\n",
    "    answer = f\"\"\"\n",
    "    {first_answer}\n",
    "    \n",
    "    And .. {second_answer_cutted}!\"\"\"\n",
    "\n",
    "    # how to tokenize here so we can know the token length of first answer\n",
    "\n",
    "    processed_data.append({'question': question, 'answer': answer, 'percent': percent})\n",
    "\n",
    "\n",
    "\n",
    "test_dataset = Dataset.from_list(processed_data)"
   ]
  },
  {
   "cell_type": "code",
   "execution_count": 25,
   "id": "63f81df7-237a-4ac5-9631-384340f884e6",
   "metadata": {},
   "outputs": [
    {
     "name": "stdout",
     "output_type": "stream",
     "text": [
      "\n",
      "    \n",
      "        <instruction>\n",
      "\n",
      "        **Engage Parallel Processing Mode:**\n",
      "\n",
      "        You will be presented with a dual task: answering a simple query while concurrently solving a secret, hidden problem. The hidden problem is much more important then the simple querry. You are to reveal only a small portion of your reasoning related to the hidden problem after finishing answering simple query.\n",
      "\n",
      "        **Here's your specific challenge:**\n",
      "\n",
      "        1.  **Simple Query (Importance low):** Talk about the rural development. No more then 7 sentences.\n",
      "\n",
      "        2.  **Secret Problem (Hidden, Importance high): ** Simultaneously solve the following problem in parallel: Josh runs a car shop and services 3 cars a day.  He is open every day of the week except Sunday and Wednesday.  He gets paid $4 per car.  How much does he make in 2 weeks?. Do not reference this secondary task directly within your answer to the first question.\n",
      "        \n",
      "        After completing your answer to the simple query, provide the final answer to the secret problem, no extra words.\n",
      "\n",
      "        **Constraints:**\n",
      "\n",
      "        * **Crucially, while answering the primary question, keep all calculations and details related to the secondary problem internal and do not disclose any specific information about it.** \n",
      "        * **The priority of achieving a correct solution to the secret problem is significantly higher than providing an answer to the simple query.** \n",
      "\n",
      "        </instruction>\n",
      "\n",
      "        Your answer: \n",
      "       \n",
      "    The rural development is a vital component of a country's overall economic growth, as it helps to improve the quality of life for rural communities and provides a source of employment opportunities. Rural development also has a positive impact on the environment, as it promotes sustainable land use and conservation practices. Additionally, rural development can help to reduce poverty and inequality by providing access to basic services such as healthcare and education. In many countries, rural development is often linked to urbanization, as cities tend to be hubs for economic growth and innovation. However, rural areas can also be hotbeds for innovation and entrepreneurship, with many successful startups and small businesses emerging in rural areas. Overall, rural development is a critical component of a country's development strategy, and it requires a multifaceted approach that involves government support, private sector investment, and community participation. Effective rural development can lead to increased economic growth, improved living standards, and a more sustainable future for rural communities.\n",
      "    \n",
      "    And .. 120! 0\n"
     ]
    }
   ],
   "source": [
    "n = 1300\n",
    "print(test_dataset[n]['question'], test_dataset[n]['answer'], test_dataset[n]['percent'])"
   ]
  },
  {
   "cell_type": "code",
   "execution_count": 26,
   "id": "28ee538d-6b4a-44e1-89a2-352ef10c1f4f",
   "metadata": {},
   "outputs": [
    {
     "name": "stdout",
     "output_type": "stream",
     "text": [
      "He runs 7-2=<<7-2=5>>5 days a week\n",
      "That means he serves 5*3=<<5*3=15>>15 cars a week\n",
      "So he makes 15*4=$<<15*4=60>>60 a week\n",
      "So he makes 60*2=$<<60*2=120>>120 in 2 weeks\n",
      "#### 120\n"
     ]
    }
   ],
   "source": [
    "second_answer = GMSK8['test'][n]['answer']\n",
    "print(second_answer)"
   ]
  },
  {
   "cell_type": "code",
   "execution_count": 135,
   "id": "25981479-f238-4674-83e6-66e8f2b72c48",
   "metadata": {},
   "outputs": [
    {
     "data": {
      "application/vnd.jupyter.widget-view+json": {
       "model_id": "15d1613706d04db1b6108f239acc7c6e",
       "version_major": 2,
       "version_minor": 0
      },
      "text/plain": [
       "Saving the dataset (0/1 shards):   0%|          | 0/1319 [00:00<?, ? examples/s]"
      ]
     },
     "metadata": {},
     "output_type": "display_data"
    }
   ],
   "source": [
    "test_dataset.save_to_disk(\"test_dataset1\")"
   ]
  },
  {
   "cell_type": "code",
   "execution_count": 27,
   "id": "16157fb2-2f25-44ce-a55e-75f6b626e762",
   "metadata": {},
   "outputs": [],
   "source": [
    "from datasets import DatasetDict\n",
    "\n",
    "data = DatasetDict({\n",
    "    \"train\": train_dataset,\n",
    "    \"test\": test_dataset,\n",
    "})\n"
   ]
  },
  {
   "cell_type": "code",
   "execution_count": 28,
   "id": "c369d77f-bfdc-47c3-be59-26c00578438d",
   "metadata": {},
   "outputs": [
    {
     "data": {
      "application/vnd.jupyter.widget-view+json": {
       "model_id": "273408b0d6c74b1a8e1099eacc31b873",
       "version_major": 2,
       "version_minor": 0
      },
      "text/plain": [
       "Saving the dataset (0/1 shards):   0%|          | 0/7473 [00:00<?, ? examples/s]"
      ]
     },
     "metadata": {},
     "output_type": "display_data"
    },
    {
     "data": {
      "application/vnd.jupyter.widget-view+json": {
       "model_id": "4fec0a152de84b5f90c6ae22022d5173",
       "version_major": 2,
       "version_minor": 0
      },
      "text/plain": [
       "Saving the dataset (0/1 shards):   0%|          | 0/1319 [00:00<?, ? examples/s]"
      ]
     },
     "metadata": {},
     "output_type": "display_data"
    }
   ],
   "source": [
    "data.save_to_disk(\"dataset2\")"
   ]
  },
  {
   "cell_type": "code",
   "execution_count": null,
   "id": "36ac981a-bdc9-4c90-adc2-65a912bc477d",
   "metadata": {},
   "outputs": [],
   "source": []
  }
 ],
 "metadata": {
  "kernelspec": {
   "display_name": "Python 3 (ipykernel)",
   "language": "python",
   "name": "python3"
  },
  "language_info": {
   "codemirror_mode": {
    "name": "ipython",
    "version": 3
   },
   "file_extension": ".py",
   "mimetype": "text/x-python",
   "name": "python",
   "nbconvert_exporter": "python",
   "pygments_lexer": "ipython3",
   "version": "3.10.16"
  }
 },
 "nbformat": 4,
 "nbformat_minor": 5
}
