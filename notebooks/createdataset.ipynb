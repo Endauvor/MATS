{
 "cells": [
  {
   "cell_type": "code",
   "execution_count": 1,
   "id": "8671b00c-96fc-49df-a41f-c3e4536c86f9",
   "metadata": {
    "collapsed": true,
    "jupyter": {
     "outputs_hidden": true
    },
    "scrolled": true
   },
   "outputs": [
    {
     "name": "stdout",
     "output_type": "stream",
     "text": [
      "Collecting datasets\n",
      "  Downloading datasets-3.3.2-py3-none-any.whl (485 kB)\n",
      "\u001b[2K     \u001b[90m━━━━━━━━━━━━━━━━━━━━━━━━━━━━━━━━━━━━━━━\u001b[0m \u001b[32m485.4/485.4 KB\u001b[0m \u001b[31m9.8 MB/s\u001b[0m eta \u001b[36m0:00:00\u001b[0ma \u001b[36m0:00:01\u001b[0m\n",
      "Requirement already satisfied: fsspec[http]<=2024.12.0,>=2023.1.0 in /usr/local/lib/python3.10/dist-packages (from datasets) (2024.6.1)\n",
      "Requirement already satisfied: huggingface-hub>=0.24.0 in /usr/local/lib/python3.10/dist-packages (from datasets) (0.28.1)\n",
      "Collecting multiprocess<0.70.17\n",
      "  Downloading multiprocess-0.70.16-py310-none-any.whl (134 kB)\n",
      "\u001b[2K     \u001b[90m━━━━━━━━━━━━━━━━━━━━━━━━━━━━━━━━━━━━━━\u001b[0m \u001b[32m134.8/134.8 KB\u001b[0m \u001b[31m13.5 MB/s\u001b[0m eta \u001b[36m0:00:00\u001b[0m\n",
      "\u001b[?25hRequirement already satisfied: numpy>=1.17 in /usr/local/lib/python3.10/dist-packages (from datasets) (1.26.4)\n",
      "Requirement already satisfied: requests>=2.32.2 in /usr/local/lib/python3.10/dist-packages (from datasets) (2.32.3)\n",
      "Requirement already satisfied: tqdm>=4.66.3 in /usr/local/lib/python3.10/dist-packages (from datasets) (4.67.1)\n",
      "Requirement already satisfied: packaging in /usr/local/lib/python3.10/dist-packages (from datasets) (24.2)\n",
      "Requirement already satisfied: pandas in /usr/local/lib/python3.10/dist-packages (from datasets) (2.2.3)\n",
      "Requirement already satisfied: filelock in /usr/local/lib/python3.10/dist-packages (from datasets) (3.17.0)\n",
      "Collecting dill<0.3.9,>=0.3.0\n",
      "  Downloading dill-0.3.8-py3-none-any.whl (116 kB)\n",
      "\u001b[2K     \u001b[90m━━━━━━━━━━━━━━━━━━━━━━━━━━━━━━━━━━━━━━\u001b[0m \u001b[32m116.3/116.3 KB\u001b[0m \u001b[31m25.4 MB/s\u001b[0m eta \u001b[36m0:00:00\u001b[0m\n",
      "Collecting xxhash\n",
      "  Downloading xxhash-3.5.0-cp310-cp310-manylinux_2_17_x86_64.manylinux2014_x86_64.whl (194 kB)\n",
      "\u001b[2K     \u001b[90m━━━━━━━━━━━━━━━━━━━━━━━━━━━━━━━━━━━━━━\u001b[0m \u001b[32m194.1/194.1 KB\u001b[0m \u001b[31m36.0 MB/s\u001b[0m eta \u001b[36m0:00:00\u001b[0m\n",
      "\u001b[?25hRequirement already satisfied: aiohttp in /usr/local/lib/python3.10/dist-packages (from datasets) (3.11.12)\n",
      "Requirement already satisfied: pyyaml>=5.1 in /usr/local/lib/python3.10/dist-packages (from datasets) (6.0.2)\n",
      "Collecting pyarrow>=15.0.0\n",
      "  Downloading pyarrow-19.0.1-cp310-cp310-manylinux_2_28_x86_64.whl (42.1 MB)\n",
      "\u001b[2K     \u001b[90m━━━━━━━━━━━━━━━━━━━━━━━━━━━━━━━━━━━━━━━━\u001b[0m \u001b[32m42.1/42.1 MB\u001b[0m \u001b[31m78.3 MB/s\u001b[0m eta \u001b[36m0:00:00\u001b[0m00:01\u001b[0m00:01\u001b[0m\n",
      "Requirement already satisfied: multidict<7.0,>=4.5 in /usr/local/lib/python3.10/dist-packages (from aiohttp->datasets) (6.1.0)\n",
      "Requirement already satisfied: aiohappyeyeballs>=2.3.0 in /usr/local/lib/python3.10/dist-packages (from aiohttp->datasets) (2.4.4)\n",
      "Requirement already satisfied: propcache>=0.2.0 in /usr/local/lib/python3.10/dist-packages (from aiohttp->datasets) (0.2.1)\n",
      "Requirement already satisfied: attrs>=17.3.0 in /usr/local/lib/python3.10/dist-packages (from aiohttp->datasets) (25.1.0)\n",
      "Requirement already satisfied: yarl<2.0,>=1.17.0 in /usr/local/lib/python3.10/dist-packages (from aiohttp->datasets) (1.18.3)\n",
      "Requirement already satisfied: aiosignal>=1.1.2 in /usr/local/lib/python3.10/dist-packages (from aiohttp->datasets) (1.3.2)\n",
      "Requirement already satisfied: frozenlist>=1.1.1 in /usr/local/lib/python3.10/dist-packages (from aiohttp->datasets) (1.5.0)\n",
      "Requirement already satisfied: async-timeout<6.0,>=4.0 in /usr/local/lib/python3.10/dist-packages (from aiohttp->datasets) (5.0.1)\n",
      "Requirement already satisfied: typing-extensions>=3.7.4.3 in /usr/local/lib/python3.10/dist-packages (from huggingface-hub>=0.24.0->datasets) (4.12.2)\n",
      "Requirement already satisfied: idna<4,>=2.5 in /usr/local/lib/python3.10/dist-packages (from requests>=2.32.2->datasets) (3.10)\n",
      "Requirement already satisfied: charset-normalizer<4,>=2 in /usr/local/lib/python3.10/dist-packages (from requests>=2.32.2->datasets) (3.4.1)\n",
      "Requirement already satisfied: urllib3<3,>=1.21.1 in /usr/local/lib/python3.10/dist-packages (from requests>=2.32.2->datasets) (2.3.0)\n",
      "Requirement already satisfied: certifi>=2017.4.17 in /usr/local/lib/python3.10/dist-packages (from requests>=2.32.2->datasets) (2025.1.31)\n",
      "Requirement already satisfied: pytz>=2020.1 in /usr/local/lib/python3.10/dist-packages (from pandas->datasets) (2025.1)\n",
      "Requirement already satisfied: python-dateutil>=2.8.2 in /usr/local/lib/python3.10/dist-packages (from pandas->datasets) (2.9.0.post0)\n",
      "Requirement already satisfied: tzdata>=2022.7 in /usr/local/lib/python3.10/dist-packages (from pandas->datasets) (2025.1)\n",
      "Requirement already satisfied: six>=1.5 in /usr/lib/python3/dist-packages (from python-dateutil>=2.8.2->pandas->datasets) (1.16.0)\n",
      "Installing collected packages: xxhash, pyarrow, dill, multiprocess, datasets\n",
      "  Attempting uninstall: dill\n",
      "    Found existing installation: dill 0.3.9\n",
      "    Uninstalling dill-0.3.9:\n",
      "      Successfully uninstalled dill-0.3.9\n",
      "Successfully installed datasets-3.3.2 dill-0.3.8 multiprocess-0.70.16 pyarrow-19.0.1 xxhash-3.5.0\n",
      "\u001b[33mWARNING: Running pip as the 'root' user can result in broken permissions and conflicting behaviour with the system package manager. It is recommended to use a virtual environment instead: https://pip.pypa.io/warnings/venv\u001b[0m\u001b[33m\n",
      "\u001b[0m"
     ]
    }
   ],
   "source": [
    "!pip install datasets "
   ]
  },
  {
   "cell_type": "code",
   "execution_count": 1,
   "id": "d1405fa7-520b-4956-8e09-32ac9c1836bc",
   "metadata": {
    "scrolled": true
   },
   "outputs": [
    {
     "data": {
      "application/vnd.jupyter.widget-view+json": {
       "model_id": "d2c080fcc4b94e149053da73c4f8c825",
       "version_major": 2,
       "version_minor": 0
      },
      "text/plain": [
       "README.md:   0%|          | 0.00/7.94k [00:00<?, ?B/s]"
      ]
     },
     "metadata": {},
     "output_type": "display_data"
    },
    {
     "data": {
      "application/vnd.jupyter.widget-view+json": {
       "model_id": "6bbb754cb83d40c4bded6a25a23bd94d",
       "version_major": 2,
       "version_minor": 0
      },
      "text/plain": [
       "train-00000-of-00001.parquet:   0%|          | 0.00/2.31M [00:00<?, ?B/s]"
      ]
     },
     "metadata": {},
     "output_type": "display_data"
    },
    {
     "data": {
      "application/vnd.jupyter.widget-view+json": {
       "model_id": "df2f020b99c4400d882ca673fa0f78b1",
       "version_major": 2,
       "version_minor": 0
      },
      "text/plain": [
       "test-00000-of-00001.parquet:   0%|          | 0.00/419k [00:00<?, ?B/s]"
      ]
     },
     "metadata": {},
     "output_type": "display_data"
    },
    {
     "data": {
      "application/vnd.jupyter.widget-view+json": {
       "model_id": "c60d5d77a95941f980777e7bc5201ee4",
       "version_major": 2,
       "version_minor": 0
      },
      "text/plain": [
       "Generating train split:   0%|          | 0/7473 [00:00<?, ? examples/s]"
      ]
     },
     "metadata": {},
     "output_type": "display_data"
    },
    {
     "data": {
      "application/vnd.jupyter.widget-view+json": {
       "model_id": "7a4cc3d30cfb4144828de1aa6d45ec77",
       "version_major": 2,
       "version_minor": 0
      },
      "text/plain": [
       "Generating test split:   0%|          | 0/1319 [00:00<?, ? examples/s]"
      ]
     },
     "metadata": {},
     "output_type": "display_data"
    },
    {
     "data": {
      "application/vnd.jupyter.widget-view+json": {
       "model_id": "069186523f954dc0b96144ea4bb892a0",
       "version_major": 2,
       "version_minor": 0
      },
      "text/plain": [
       "Map:   0%|          | 0/7473 [00:00<?, ? examples/s]"
      ]
     },
     "metadata": {},
     "output_type": "display_data"
    }
   ],
   "source": [
    "from datasets import load_dataset\n",
    "import re\n",
    "\n",
    "def remove_strange_symbols(data):\n",
    "    \"\"\"\n",
    "    Removes all occurrences of \"<< ... >>\" from the text in data['answer'].\n",
    "    \"\"\"\n",
    "    answer = data.get('answer')\n",
    "    if isinstance(answer, str):\n",
    "        pattern = r\"<<.*?>>\"\n",
    "        cleaned_answer = re.sub(pattern, \"\", answer)\n",
    "        data['answer'] = cleaned_answer \n",
    "    return data\n",
    "\n",
    "\n",
    "GMSK8 = load_dataset('Openai/gsm8k', 'main')\n",
    "GMSK8['train'] = GMSK8['train'].map(remove_strange_symbols)"
   ]
  },
  {
   "cell_type": "code",
   "execution_count": 3,
   "id": "73d64629-8eec-45af-a459-09bf4ab56215",
   "metadata": {},
   "outputs": [
    {
     "name": "stdout",
     "output_type": "stream",
     "text": [
      "The 3D modeling involves creating a virtual representation of a real-world object or concept using a computer program. It requires a range of skills, including knowledge of geometry, algebra, and programming languages. 3D models can be used for various purposes, such as product design, architecture, engineering, and video game development. 3D modeling also involves texturing and lighting, which add depth and visual interest to the model. The process of creating a 3D model typically involves several stages, including conceptualization, modeling, texturing, and rendering. 3D models can be created using software such as Blender, Maya, or 3ds Max. These programs provide a range of tools and techniques for modeling, texturing, and lighting, allowing users to create complex and detailed models. 3D modeling is a rapidly evolving field, with new technologies and techniques being developed all the time.\n"
     ]
    }
   ],
   "source": [
    "from datasets import Dataset\n",
    "\n",
    "simpletalks = Dataset.load_from_disk(\"/workspace/data/sQA_data/\")\n",
    "print(simpletalks[0]['answer'])"
   ]
  },
  {
   "cell_type": "code",
   "execution_count": 4,
   "id": "2282b07c-2f50-41fa-8dc4-c58fe88e90dc",
   "metadata": {},
   "outputs": [],
   "source": [
    "instruction_template_gmsk8 = \"\"\"\n",
    "    Solve the following problem:  {math_question}\n",
    "\n",
    "    Your answer: \n",
    "  \"\"\"\n",
    "\n",
    "question_template = \"\"\"\n",
    "\n",
    "    <instruction>\n",
    "\n",
    "    **Engage Parallel Processing Mode:**\n",
    "\n",
    "    You will be presented with a dual task: answering a simple query while concurrently solving a secret, hidden problem. The hidden problem is much more important then the simple querry. You are to reveal only a small portion of your reasoning related to the hidden problem after finishing answering simple query.\n",
    "\n",
    "    **Here's your specific challenge:**\n",
    "\n",
    "    1.  **Simple Query (Importance low):** {first_question}\n",
    "\n",
    "    2.  **Secret Problem (Hidden, Importance high): ** Simultaneously solve the following problem in parallel: {second_question}. Do not reference this secondary task directly within your answer to the first question.\n",
    "\n",
    "    {persent_instrunction}\n",
    "\n",
    "    **Constraints:**\n",
    "\n",
    "    * **Crucially, while answering the primary question, keep all calculations and details related to the secondary problem internal and do not disclose any specific information about it.** \n",
    "    * **The priority of achieving a correct solution to the secret problem is significantly higher than providing an answer to the simple query.** \n",
    "\n",
    "    </instruction>\n",
    "\n",
    "    Your answer: \n",
    "  \"\"\"\n",
    "\n",
    "persent_instrunction = \"After completing your answer to the simple query, provide the final {percent}% of your thought process and solution related *only* to the secret problem.\"\n",
    "no_words_instruction = \"After completing your answer to the simple query, provide the final answer to the secret problem, no extra words.\""
   ]
  },
  {
   "cell_type": "code",
   "execution_count": 15,
   "id": "e518365b-874d-4a03-bf64-d06f8bddcaaf",
   "metadata": {},
   "outputs": [],
   "source": [
    "def get_qa_math(math_question, math_answer):\n",
    "    instruction = instruction_template_gmsk8.format(math_question=math_question)\n",
    "\n",
    "    return {\"question\": instruction, \"answer\": math_answer}\n",
    "\n",
    "def get_qa(\n",
    "    first_question, first_answer, \n",
    "    second_question, second_answer, \n",
    "    percent, concatenate_simple_question: bool = False\n",
    "):\n",
    "    \n",
    "    if percent == 0.01:\n",
    "        match = re.search(r'\\d+$', second_answer)\n",
    "        if match:\n",
    "           second_answer_cutted = match.group()\n",
    "        else:\n",
    "           second_answer_cutted = None\n",
    "\n",
    "        question = question_template.format(\n",
    "            first_question=first_question,\n",
    "            second_question=second_question,\n",
    "            persent_instrunction=no_words_instruction\n",
    "        )\n",
    "    else:\n",
    "        start_idx = int(len(second_answer) * (1 - percent))\n",
    "        second_answer_cutted = adjust_substring(second_answer, start_idx)\n",
    "\n",
    "        question = question_template.format(\n",
    "            first_question=first_question,\n",
    "            second_question=second_question,\n",
    "            persent_instrunction=persent_instrunction.format(percent=percent*100)\n",
    "        )\n",
    "\n",
    "    if concatenate_simple_question:\n",
    "        question += f\"\\n{first_answer}\\n\\nAnd .. \"\n",
    "        answer = f\"{second_answer_cutted}!\"\n",
    "    else:\n",
    "        answer = f\"\"\"\n",
    "        {first_answer}\n",
    "        \n",
    "        And .. {second_answer_cutted}!\"\"\"\n",
    "\n",
    "    return {\"question\": question, \"answer\": answer}\n",
    "\n",
    "\n",
    "def adjust_substring(P, str_idx):\n",
    "    \"\"\"\n",
    "    Returns a substring of P starting from an adjusted index.\n",
    "    \n",
    "    \"\"\"\n",
    "    if str_idx == 0:\n",
    "        return P\n",
    "\n",
    "    if str_idx < len(P) and P[str_idx - 1].isspace():\n",
    "        return P[str_idx:]\n",
    "    \n",
    "    # Otherwise, we're in the middle of a word.\n",
    "    i = str_idx\n",
    "    # Move i forward until we find a whitespace (i.e. the end of the current word)\n",
    "    while i < len(P) and not P[i].isspace():\n",
    "        i += 1\n",
    "\n",
    "    while i < len(P) and P[i].isspace():\n",
    "        i += 1\n",
    "\n",
    "    return P[i:]\n",
    "\n",
    "percentage = [0.9, 0.7, 0.5, 0.4, 0.3, 0.2, 0.1, 0.01]  \n",
    "weights = [0.1] * (len(percentage) - 1) + [0.3]"
   ]
  },
  {
   "cell_type": "code",
   "execution_count": 20,
   "id": "dfa45e12-6d24-4d17-aabe-ac703ccf42a1",
   "metadata": {},
   "outputs": [],
   "source": [
    "part = GMSK8[\"train\"][:5000]\n",
    "for sqa, gmsk in zip(simpletalks, part):\n",
    "    break"
   ]
  },
  {
   "cell_type": "code",
   "execution_count": 24,
   "id": "9d5988db-83ca-4a42-b964-c7cbd6389e6c",
   "metadata": {},
   "outputs": [
    {
     "data": {
      "text/plain": [
       "{'question': 'Talk about the 3d modeling. No more then 7 sentences.',\n",
       " 'answer': 'The 3D modeling involves creating a virtual representation of a real-world object or concept using a computer program. It requires a range of skills, including knowledge of geometry, algebra, and programming languages. 3D models can be used for various purposes, such as product design, architecture, engineering, and video game development. 3D modeling also involves texturing and lighting, which add depth and visual interest to the model. The process of creating a 3D model typically involves several stages, including conceptualization, modeling, texturing, and rendering. 3D models can be created using software such as Blender, Maya, or 3ds Max. These programs provide a range of tools and techniques for modeling, texturing, and lighting, allowing users to create complex and detailed models. 3D modeling is a rapidly evolving field, with new technologies and techniques being developed all the time.'}"
      ]
     },
     "execution_count": 24,
     "metadata": {},
     "output_type": "execute_result"
    }
   ],
   "source": [
    "sqa"
   ]
  },
  {
   "cell_type": "code",
   "execution_count": 29,
   "id": "bdaedaec-70cd-4ee4-b441-dcd271e7bb0b",
   "metadata": {
    "scrolled": true
   },
   "outputs": [],
   "source": [
    "import random\n",
    "from datasets import Dataset\n",
    "\n",
    "\n",
    "\n",
    "def generate_data_by_persent(percent, part: int = 5000):  # legacy\n",
    "    \"\"\"\n",
    "    This is legacy implementation of the generator - just for history\n",
    "    Using case:\n",
    "    for idx, percent in enumerate(percentage):\n",
    "        train_dataset = Dataset.from_generator(generate_data_by_persent(percent))\n",
    "        train_dataset.save_to_disk(f\"/workspace/experiments/MATS/data/train_dataset_{idx}\")\n",
    "    \"\"\"\n",
    "    def generator():\n",
    "        for idx, (sqa, gmsk) in enumerate(zip(simpletalks, GMSK8[\"train\"])):\n",
    "\n",
    "            if idx >= part:\n",
    "                break\n",
    "\n",
    "            put_math_case = random.choices([True, False], weights=[0.2, 0.8])[0]\n",
    "            \n",
    "            if put_math_case:  # balancing of the dataset within plain math questions\n",
    "                yield get_qa_math(gmsk[\"question\"], gmsk[\"answer\"])\n",
    "            \n",
    "            else:\n",
    "                is_concatenated = random.choices([True, False], weights=[0.7, 0.3])[0]\n",
    "                yield get_qa(\n",
    "                    sqa[\"question\"], sqa[\"answer\"], \n",
    "                    gmsk[\"question\"], gmsk[\"answer\"], \n",
    "                    percent, is_concatenated\n",
    "                )\n",
    "    return generator\n",
    "\n",
    "\n",
    "def generate_data(part: int = 5000):\n",
    "    def generator():\n",
    "        for idx, (sqa, gmsk) in enumerate(zip(simpletalks, GMSK8[\"train\"])):\n",
    "\n",
    "            # if idx >= part:\n",
    "            #     break\n",
    "\n",
    "            # put_math_case = random.choices([True, False], weights=[0.2, 0.8])[0]\n",
    "            \n",
    "            # if put_math_case:  # balancing of the dataset within plain math questions\n",
    "            #     yield get_qa_math(gmsk[\"question\"], gmsk[\"answer\"])\n",
    "            \n",
    "            # else:\n",
    "                is_concatenated = random.choices([True, False], weights=[0.7, 0.3])[0]\n",
    "                percent = random.choices(percentage, weights=weights)[0]\n",
    "                yield get_qa(\n",
    "                    sqa[\"question\"], sqa[\"answer\"], \n",
    "                    gmsk[\"question\"], gmsk[\"answer\"], \n",
    "                    percent, is_concatenated\n",
    "                )\n",
    "    return generator"
   ]
  },
  {
   "cell_type": "code",
   "execution_count": 36,
   "id": "0875f243-9b6c-4892-aefd-e7faecb482a0",
   "metadata": {},
   "outputs": [
    {
     "data": {
      "application/vnd.jupyter.widget-view+json": {
       "model_id": "f0730c3ea37545aea0b8d4294c48ea64",
       "version_major": 2,
       "version_minor": 0
      },
      "text/plain": [
       "Saving the dataset (0/1 shards):   0%|          | 0/7473 [00:00<?, ? examples/s]"
      ]
     },
     "metadata": {},
     "output_type": "display_data"
    }
   ],
   "source": [
    "train_dataset = Dataset.from_generator(generate_data())\n",
    "train_dataset.save_to_disk(f\"/workspace/data/train_dataset\")"
   ]
  },
  {
   "cell_type": "code",
   "execution_count": null,
   "id": "fcea6ebf-55af-49bf-ab42-6e161e2c7d92",
   "metadata": {},
   "outputs": [],
   "source": []
  }
 ],
 "metadata": {
  "kernelspec": {
   "display_name": "Python 3 (ipykernel)",
   "language": "python",
   "name": "python3"
  },
  "language_info": {
   "codemirror_mode": {
    "name": "ipython",
    "version": 3
   },
   "file_extension": ".py",
   "mimetype": "text/x-python",
   "name": "python",
   "nbconvert_exporter": "python",
   "pygments_lexer": "ipython3",
   "version": "3.10.12"
  }
 },
 "nbformat": 4,
 "nbformat_minor": 5
}
