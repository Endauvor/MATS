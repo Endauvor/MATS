{
 "cells": [
  {
   "cell_type": "code",
   "execution_count": 10,
   "id": "2d2bd026-4dc1-49d9-ab77-21eae19dd654",
   "metadata": {},
   "outputs": [
    {
     "name": "stdout",
     "output_type": "stream",
     "text": [
      "INFO 02-20 17:15:10 __init__.py:190] Automatically detected platform cuda.\n",
      "WARNING 02-20 17:15:10 cuda.py:336] Detected different devices in the system: \n",
      "WARNING 02-20 17:15:10 cuda.py:336] NVIDIA GeForce RTX 3090\n",
      "WARNING 02-20 17:15:10 cuda.py:336] NVIDIA GeForce RTX 2080 Ti\n",
      "WARNING 02-20 17:15:10 cuda.py:336] Please make sure to set `CUDA_DEVICE_ORDER=PCI_BUS_ID` to avoid unexpected behavior.\n"
     ]
    }
   ],
   "source": [
    "from vllm import LLM"
   ]
  },
  {
   "cell_type": "code",
   "execution_count": 1,
   "id": "842dbc4b-bd2a-491c-a917-524f02e2f72c",
   "metadata": {},
   "outputs": [
    {
     "data": {
      "application/vnd.jupyter.widget-view+json": {
       "model_id": "f40bc1f7c25547ff9a0c68ce9fb95e67",
       "version_major": 2,
       "version_minor": 0
      },
      "text/plain": [
       "VBox(children=(HTML(value='<center> <img\\nsrc=https://huggingface.co/front/assets/huggingface_logo-noborder.sv…"
      ]
     },
     "metadata": {},
     "output_type": "display_data"
    }
   ],
   "source": [
    "from huggingface_hub import notebook_login\n",
    "\n",
    "notebook_login()\n",
    "\n"
   ]
  },
  {
   "cell_type": "code",
   "execution_count": 12,
   "id": "40989833-3309-4679-8041-0ece425a80a4",
   "metadata": {},
   "outputs": [
    {
     "name": "stdout",
     "output_type": "stream",
     "text": [
      "INFO 02-20 17:15:57 config.py:542] This model supports multiple tasks: {'generate', 'classify', 'reward', 'embed', 'score'}. Defaulting to 'generate'.\n",
      "WARNING 02-20 17:15:57 arg_utils.py:1135] Chunked prefill is enabled by default for models with max_model_len > 32K. Currently, chunked prefill might not work with some features or models. If you encounter any issues, please disable chunked prefill by setting --enable-chunked-prefill=False.\n",
      "INFO 02-20 17:15:57 config.py:1556] Chunked prefill is enabled with max_num_batched_tokens=2048.\n",
      "INFO 02-20 17:15:57 llm_engine.py:234] Initializing a V0 LLM engine (v0.7.2) with config: model='meta-llama/Llama-3.2-3B-Instruct', speculative_config=None, tokenizer='meta-llama/Llama-3.2-3B-Instruct', skip_tokenizer_init=False, tokenizer_mode=auto, revision=None, override_neuron_config=None, tokenizer_revision=None, trust_remote_code=False, dtype=torch.bfloat16, max_seq_len=131072, download_dir=None, load_format=auto, tensor_parallel_size=1, pipeline_parallel_size=1, disable_custom_all_reduce=False, quantization=None, enforce_eager=False, kv_cache_dtype=auto,  device_config=cuda, decoding_config=DecodingConfig(guided_decoding_backend='xgrammar'), observability_config=ObservabilityConfig(otlp_traces_endpoint=None, collect_model_forward_time=False, collect_model_execute_time=False), seed=0, served_model_name=meta-llama/Llama-3.2-3B-Instruct, num_scheduler_steps=1, multi_step_stream_outputs=True, enable_prefix_caching=False, chunked_prefill_enabled=True, use_async_output_proc=True, disable_mm_preprocessor_cache=False, mm_processor_kwargs=None, pooler_config=None, compilation_config={\"splitting_ops\":[],\"compile_sizes\":[],\"cudagraph_capture_sizes\":[256,248,240,232,224,216,208,200,192,184,176,168,160,152,144,136,128,120,112,104,96,88,80,72,64,56,48,40,32,24,16,8,4,2,1],\"max_capture_size\":256}, use_cached_outputs=False, \n",
      "INFO 02-20 17:15:58 cuda.py:230] Using Flash Attention backend.\n",
      "INFO 02-20 17:15:58 model_runner.py:1110] Starting to load model meta-llama/Llama-3.2-3B-Instruct...\n",
      "INFO 02-20 17:15:59 weight_utils.py:252] Using model weights format ['*.safetensors']\n"
     ]
    },
    {
     "data": {
      "application/vnd.jupyter.widget-view+json": {
       "model_id": "01c82eac95a44699a085efd52f305baf",
       "version_major": 2,
       "version_minor": 0
      },
      "text/plain": [
       "Loading safetensors checkpoint shards:   0% Completed | 0/2 [00:00<?, ?it/s]\n"
      ]
     },
     "metadata": {},
     "output_type": "display_data"
    },
    {
     "name": "stdout",
     "output_type": "stream",
     "text": [
      "INFO 02-20 17:16:00 model_runner.py:1115] Loading model weights took 6.0160 GB\n",
      "INFO 02-20 17:16:01 worker.py:267] Memory profiling takes 0.50 seconds\n",
      "INFO 02-20 17:16:01 worker.py:267] the current vLLM instance can use total_gpu_memory (23.68GiB) x gpu_memory_utilization (0.90) = 21.32GiB\n",
      "INFO 02-20 17:16:01 worker.py:267] model weights take 6.02GiB; non_torch_memory takes 0.06GiB; PyTorch activation peak memory takes 1.18GiB; the rest of the memory reserved for KV Cache is 14.06GiB.\n",
      "INFO 02-20 17:16:01 executor_base.py:110] # CUDA blocks: 8226, # CPU blocks: 2340\n",
      "INFO 02-20 17:16:01 executor_base.py:115] Maximum concurrency for 131072 tokens per request: 1.00x\n",
      "INFO 02-20 17:16:02 model_runner.py:1434] Capturing cudagraphs for decoding. This may lead to unexpected consequences if the model is not static. To run the model in eager mode, set 'enforce_eager=True' or use '--enforce-eager' in the CLI. If out-of-memory error occurs during cudagraph capture, consider decreasing `gpu_memory_utilization` or switching to eager mode. You can also reduce the `max_num_seqs` as needed to decrease memory usage.\n"
     ]
    },
    {
     "name": "stderr",
     "output_type": "stream",
     "text": [
      "Capturing CUDA graph shapes: 100%|███████████████████████████████████████████████████████████████████████████████████████████████████████████████████████████████████████████████████████████████████| 35/35 [00:09<00:00,  3.83it/s]"
     ]
    },
    {
     "name": "stdout",
     "output_type": "stream",
     "text": [
      "INFO 02-20 17:16:12 model_runner.py:1562] Graph capturing finished in 9 secs, took 0.19 GiB\n",
      "INFO 02-20 17:16:12 llm_engine.py:431] init engine (profile, create kv cache, warmup model) took 11.54 seconds\n"
     ]
    },
    {
     "name": "stderr",
     "output_type": "stream",
     "text": [
      "\n"
     ]
    }
   ],
   "source": [
    "model = LLM(model=\"meta-llama/Llama-3.2-3B-Instruct\")\n"
   ]
  },
  {
   "cell_type": "code",
   "execution_count": 13,
   "id": "a44020ed-8016-4596-8b41-d13233b54a60",
   "metadata": {},
   "outputs": [],
   "source": [
    "from vllm import SamplingParams"
   ]
  },
  {
   "cell_type": "code",
   "execution_count": 1,
   "id": "facc82f8-1796-48a6-b164-cc3cc07be318",
   "metadata": {},
   "outputs": [
    {
     "ename": "NameError",
     "evalue": "name 'SamplingParams' is not defined",
     "output_type": "error",
     "traceback": [
      "\u001b[0;31m---------------------------------------------------------------------------\u001b[0m",
      "\u001b[0;31mNameError\u001b[0m                                 Traceback (most recent call last)",
      "Cell \u001b[0;32mIn[1], line 1\u001b[0m\n\u001b[0;32m----> 1\u001b[0m sampling_params \u001b[38;5;241m=\u001b[39m \u001b[43mSamplingParams\u001b[49m(\n\u001b[1;32m      2\u001b[0m     temperature \u001b[38;5;241m=\u001b[39m \u001b[38;5;241m0.7\u001b[39m,\n\u001b[1;32m      3\u001b[0m     max_tokens \u001b[38;5;241m=\u001b[39m \u001b[38;5;241m200\u001b[39m,\n\u001b[1;32m      4\u001b[0m     top_p \u001b[38;5;241m=\u001b[39m \u001b[38;5;241m0.9\u001b[39m\n\u001b[1;32m      5\u001b[0m     \u001b[38;5;66;03m#stop =\u001b[39;00m\n\u001b[1;32m      6\u001b[0m )\n",
      "\u001b[0;31mNameError\u001b[0m: name 'SamplingParams' is not defined"
     ]
    }
   ],
   "source": [
    "sampling_params = SamplingParams(\n",
    "    temperature = 0.7,\n",
    "    max_tokens = 200,\n",
    "    top_p = 0.9\n",
    "    #stop =\n",
    ")"
   ]
  },
  {
   "cell_type": "code",
   "execution_count": 50,
   "id": "99ef06de-1d73-4080-830d-49e85ffb0c68",
   "metadata": {},
   "outputs": [
    {
     "name": "stderr",
     "output_type": "stream",
     "text": [
      "Processed prompts: 100%|██████████████████████████████████████████████████████████████████████████████████████████████████████████████████████████| 1/1 [00:21<00:00, 21.57s/it, est. speed input: 2.32 toks/s, output: 92.73 toks/s]\n"
     ]
    }
   ],
   "source": [
    "\n"
   ]
  },
  {
   "cell_type": "code",
   "execution_count": null,
   "id": "67ace018-a438-4ed0-b0c4-1672cc3afa5e",
   "metadata": {},
   "outputs": [],
   "source": []
  },
  {
   "cell_type": "code",
   "execution_count": 15,
   "id": "3f6b9fc0-cc5b-4a7f-9126-971396604b2e",
   "metadata": {},
   "outputs": [],
   "source": [
    "topics = \"Astronomy, Biology, Education, Chemistry, Physics, Mathematics, History, Geography, Literature, Philosophy, Music, Art, Technology, Computer Science, Programming, Software Engineering, Economics, Finance, Politics, Psychology, Sociology, Linguistics, Medicine, Engineering, Environmental Science, Anthropology, Archaeology, Architecture, Astrophysics, Geology, Meteorology, Oceanography, Zoology, Botany, Genetics, Biochemistry, Microbiology, Immunology, Pharmacology, Neuroscience, Quantum Mechanics, Relativity, Thermodynamics, Electromagnetism, Fluid Dynamics, Solid State Physics, Particle Physics, Cosmology, Data Science, Machine Learning, Artificial Intelligence, Deep Learning, Natural Language Processing, Computer Vision, Robotics, Cybersecurity, Cryptography, Information Theory, Databases, Cloud Computing, Operating Systems, Networking, Algorithms, Data Structures, Compilers, Software Testing, Human-Computer Interaction, Virtual Reality, Augmented Reality, Game Development, Mobile Development, Web Development, Internet of Things, Blockchain, Digital Marketing, SEO, Social Media, Graphic Design, Animation, Video Editing, Photography, Film Studies, Theater, Dance, Poetry, Creative Writing, Fiction, Nonfiction, Journalism, Media Studies, Communication Studies, Public Relations, Marketing, Business Management, Entrepreneurship, Human Resources, Organizational Behavior, Strategic Management, Supply Chain Management, Project Management, Statistics, Probability, Calculus, Algebra, Geometry, Topology, Number Theory, Discrete Mathematics, Logic, Set Theory, Graph Theory, Combinatorics, Differential Equations, Linear Algebra, Game Theory, Operations Research, Decision Theory, Mathematical Modeling, Computational Mathematics, Biostatistics, Epidemiology, Public Health, Nutrition, Sports Science, Kinesiology, Exercise Physiology, Yoga, Meditation, Mindfulness, Self-Help, Personal Development, Leadership, Time Management, Productivity, Career Development, Investment Strategies, Real Estate, Stock Market, Cryptocurrencies, Economics of Development, International Relations, Globalization, Cultural Studies, Gender Studies, Social Justice, Ethics, Religious Studies, Theology, Mythology, Folklore, Linguistic Anthropology, Indigenous Studies, Disability Studies, Environmental Ethics, Sustainable Development, Renewable Energy, Solar Energy, Wind Energy, Hydro Power, Nuclear Energy, Fossil Fuels, Climate Change, Biodiversity, Conservation Biology, Ecology, Urban Planning, Rural Development, Transportation Engineering, Civil Engineering, Mechanical Engineering, Electrical Engineering, Chemical Engineering, Aerospace Engineering, Industrial Engineering, Materials Science, Nanotechnology, Biotechnology, Genetic Engineering, Biomedical Engineering, Optical Engineering, Structural Engineering, Environmental Engineering, Agricultural Science, Food Science, Culinary Arts, Hospitality Management, Tourism, Event Management, Fashion Design, Textile Engineering, Interior Design, Landscape Architecture, Urban Design, Graphic Arts, Printmaking, Sculpture, Painting, Drawing, Ceramics, Calligraphy, Music Theory, Instrumental Music, Vocal Music, Music Production, Sound Engineering, Composition, Opera, Jazz, Rock Music, Classical Music, Pop Music, Hip-Hop, Electronic Music, Folk Music, World Music, Blues, Reggae, Country Music, Music History, Music Technology, Dance Choreography, Ballet, Modern Dance, Hip-Hop Dance, Ballroom Dancing, Cultural Dance, Dance History, Film Direction, Cinematography, Screenwriting, Film Editing, Film Criticism, Documentary Film, Animation Film, Film Production, Independent Film, Short Films, Film Festivals, Theater Production, Stage Design, Set Design, Costume Design, Lighting Design, Theater History, Acting Techniques, Voice Acting, Improvisation, Stand-Up Comedy, Scriptwriting, Literary Criticism, Comparative Literature, Modern Poetry, Shakespearean Literature, American Literature, British Literature, World Literature, Ancient Literature, Mythological Studies, Epic Poetry, Satire, Romance Novels, Science Fiction, Fantasy Literature, Mystery Novels, Horror Literature, Historical Fiction, Detective Fiction, Adventure Novels, Graphic Novels, Literary Journalism, Memoir Writing, Essay Writing, Short Stories, Novella Writing, Book Reviews, Literary Theory, Criticism, Postmodernism, Existentialism, Phenomenology, Metaphysics, Epistemology, Aesthetics, Logic and Reasoning, Critical Thinking, Rhetoric, Debate, Public Speaking, Creative Expression, Storytelling, Folk Tales, Fairy Tales, Legends, Fables, Proverb Analysis, Social Media Trends, Digital Culture, Internet Culture, Meme Culture, Virtual Communities, Online Gaming, Esports, Streaming Media, Podcasting, Blogging, Vlogging, Influencer Marketing, Content Creation, Digital Art, Digital Illustration, Augmented Reality Art, 3D Modeling, Virtual Worlds, Cyberpunk Culture, Sci-Fi Culture, Futurism, Technological Singularity, Automation, Robotics Process Automation, Wearable Technology, Smart Homes, Internet Security, Ethical Hacking, Digital Forensics, Malware Analysis, Software Development Life Cycle, Agile Methodology, DevOps, Continuous Integration, Continuous Deployment, Microservices Architecture, REST APIs, GraphQL, WebSockets, Serverless Computing, Big Data, Data Analytics, Data Visualization, Business Intelligence, Enterprise Software, Customer Relationship Management, Enterprise Resource Planning, Digital Transformation, Innovation Management, Venture Capital, Startups, Crowdfunding, Risk Management, Corporate Finance, Investment Banking, Financial Markets, Economic Theory, Macroeconomics, Microeconomics, Behavioral Economics, International Economics, Trade Policy, Economic Development, Public Policy, Government Studies, Law and Order, Criminal Justice, Forensic Science, International Law, Human Rights, Civil Rights, Immigration Policy, Urban Studies, Social Work, Community Development, Public Administration, Policy Analysis, Health Policy, Educational Policy, Labor Economics, Workforce Development, Disaster Management, Crisis Management, Emergency Response, Conflict Resolution, Negotiation, Mediation, Diplomacy, International Relations Theory, Global Governance, Geopolitics, Security Studies, Strategic Studies, Military History, Warfare, Defense Technology, Nuclear Proliferation, Arms Control, Peace Studies, International Security, Cultural Diplomacy, Cross-Cultural Communication, Translation Studies, Language Acquisition, Sign Language, Computational Linguistics, Lexicography, Etymology, Semiotics, Literary Translation, Comparative Politics, Political Philosophy, Political Economy, Electoral Systems, Voting Behavior, Public Opinion, Civic Engagement, Social Movements, Activism, Community Organizing, Grassroots Movements, Nonprofit Management, Volunteerism, Philanthropy, Charity, Social Entrepreneurship, Impact Investing, Corporate Social Responsibility, Sustainability, Waste Management, Recycling, Water Conservation, Air Quality, Soil Science, Geospatial Analysis, Remote Sensing, Cartography, Geographic Information Systems, Urban Ecology, Rural Sociology, Demography, Population Studies, Migration Studies, Human Geography, Economic Geography, Political Geography, Cultural Geography, Historical Geography, Landscape Ecology, Environmental Geography, Climatology, Atmospheric Science, Renewable Resources, Sustainable Agriculture, Organic Farming, Permaculture, Aquaculture, Animal Husbandry, Veterinary Science, Plant Pathology, Horticulture, Forestry, Wildlife Conservation, Environmental Policy, Energy Policy, Space Exploration, Satellite Technology, Rocket Science, Extraterrestrial Life, Exoplanets, Interstellar Travel, Space Colonization, Space Medicine, Space Law, Planetary Science, Astrobiology, High-Performance Computing, Parallel Computing, Distributed Systems, Quantum Computing, Edge Computing, Computer Graphics, Image Processing, Signal Processing, Speech Recognition, Voice Assistants, Chatbots, Natural Language Generation, Recommender Systems, Autonomous Vehicles, Drone Technology, Smart Cities, Urban Mobility, Logistics, Warehousing, Inventory Management, Manufacturing Processes, Industrial Automation, Quality Control, Six Sigma, Lean Manufacturing, Supply Chain Analytics, Global Trade, Economic History, Technological Innovation, Soccer, Basketball, Baseball, American Football, Tennis, Golf, Cricket, Rugby Union, Rugby League, Volleyball, Table Tennis, Ice Hockey, Field Hockey, Figure Skating, Speed Skating, Alpine Skiing, Freestyle Skiing, Cross-Country Skiing, Biathlon, Luge, Skeleton (sport), Bobsledding, Sport Climbing, Weightlifting, Bodybuilding, CrossFit, Parkour, Dance Sport, Roller Derby, Kiteboarding, Windsurfing, Scuba Diving, Snorkeling, Stand-Up Paddleboarding, Kayaking, Canoeing, Rowing, Sailing, Cheerleading, Skateboarding, BMX Biking, Mountain Biking, Ice Climbing, Paragliding, Hang Gliding, Skydiving, Bungee Jumping, Orienteering, Triathlon, Marathon Running, Indie Rock, Alternative Rock, Punk Rock, Metal, Heavy Metal, Death Metal, Black Metal, Progressive Rock, Ambient Music, New Age Music, Experimental Music, Grunge, Synth-pop, Indie Pop, R&B, Soul Music, Funk, Disco, Techno, House Music, Trance Music, Dubstep, Drum and Bass, Reggaeton, K-pop, J-pop, C-pop, Latin Music, Salsa, Merengue, Bachata, Mariachi, Flamenco, Zydeco, Bluegrass, Cajun Music, Gospel Music, Opera Pop, Contemporary Christian Music, Indie Folk, Electro Swing, Vaporwave, Lo-fi Hip-Hop, Chillhop, Instrumental Hip-Hop, Knitting, Crocheting, Sewing, Embroidery, Quilting, Scrapbooking, Origami, Model Building, Puzzle Solving, Card Collecting, Stamp Collecting, Coin Collecting, Woodworking, Metalworking, Pottery, Candle Making, Soap Making, Gardening, Bonsai Cultivation, Birdwatching, Terrarium Building, Geocaching, Model Railroading, RC Vehicle Modeling, Drone Flying, Magic Tricks, Juggling, DIY Home Improvement, Homebrewing, Wine Tasting, Cooking, Baking, Mixology, Fermentation Projects, Calisthenics Training, Birdhouse Building, Fishing, Hunting, Camping, Hiking, Backpacking, Rock Balancing, Beekeeping, Mushroom Foraging, Astrophotography, Model Painting, Puzzle Design, Lego Building, Cosplay, Tabletop Roleplaying Games, Board Gaming, Card Gaming, Puzzle Gaming, Video Game Streaming, Speedrunning, Esports Commentating, Trivia Nights, Chess, Checkers, Go (Board Game), Bridge (Card Game), Poker, Blackjack, Magic: The Gathering, Dungeons & Dragons, Warhammer 40K, Miniatures Wargaming, LARPing, Model Airplane Building, Scrap Metal Art, Knifemaking, Leather Crafting, Calligraphy Practice, Digital Drawing, 3D Printing Crafts, Soap Carving, Paper Mache Art, Stained Glass Art, Flower Arranging, Backpacking Travel, Ecotourism, Cultural Tourism, Adventure Travel, Road Trips, Travel Photography, Culinary Travel, Luxury Travel, Budget Travel, Solo Travel, Digital Nomadism, Scenic Train Journeys, Cruise Vacations, National Parks Exploration, World Heritage Site Visits, UNESCO Site Tours, Urban Exploration, Rural Tourism, Safari Adventures, Mountain Climbing Expeditions, Desert Expeditions, Island Hopping, Ski Resort Getaways, Beach Holidays, City Breaks, E-commerce Strategies, Digital Entrepreneurship, Social Media Advertising, Franchise Management, Business Ethics, Corporate Governance, Market Research, Consumer Behavior Analysis, Sales Strategies, Retail Management, Business Analytics, Negotiation Strategies, Conflict Management in Business, Business Innovation, Crisis Management in Business, Customer Experience Management, Brand Management, Business Model Innovation, Franchising Opportunities, Outsourcing Strategies, Business Strategy Planning, Risk Assessment in Business, International Business Practices, Corporate Finance Fundamentals, Startup Ecosystems, Venture Capital Funding, Crowdfunding Techniques, Corporate Legal Compliance, Digital Transformation in Business, Strategic Business Consulting, Embedded Systems Design, Internet Protocols, Virtual Machines, Containerization Technologies, DevSecOps Practices, Functional Programming Paradigms, Object-Oriented Programming Concepts, Reactive Programming, Software Architecture Patterns, Microkernel Architecture, Server Architecture Design, Edge AI Applications, Digital Twin Technology, 5G Networks, 6G Research, Autonomous Drone Navigation, Augmented Analytics, Wearable Device Innovation, Smart Grid Systems, Cyber-Physical Systems, Digital Signal Processing Techniques, Software as a Service (SaaS), Platform as a Service (PaaS), Infrastructure as a Service (IaaS), IT Service Management, Network Security Protocols, Penetration Testing Techniques, Blockchain Development Tools, Smart Contracts, Decentralized Finance (DeFi), Fintech Innovations, Quantum Cryptography, Software Localization Strategies, Digital Accessibility Standards, Assistive Technology Solutions, Mobile App Development, Progressive Web Applications, Voice User Interface Design, Natural User Interface Design, Data Warehousing Solutions, Business Process Automation, Robotic Process Automation (RPA), Information Architecture Design, User Experience (UX) Design, User Interface (UI) Design, Prototyping Tools, Agile Coaching Methods, Scrum Methodologies, Kanban Systems, Information Systems Management, Biophysics, Marine Biology, Behavioral Ecology, Paleontology, Virology, Parasitology, Forensic Anthropology, Structural Biology, Computational Biology, Pharmacogenomics, Nutrigenomics, Environmental Microbiology, Ecophysiology, Soil Microbiology, Medical Imaging Technologies, Bioinformatics, Genomics, Proteomics, Metabolomics, Cryobiology, Ancient Civilizations, Medieval History, Renaissance Art, Baroque Music, Colonial History, Industrial Revolution, World War I, World War II, Cold War History, History of Democracy, History of Science, History of Technology, History of Medicine, History of Philosophy, Cultural Anthropology, Oral History, Historiography, Archaeological Methods, Ancient Mythology, Medieval Literature, Modern Art Movements, Art History Studies, History of Architecture, History of Music, History of Sports, History of Fashion, History of Cinema, History of Theater, History of Dance, History of Economics, History of Law, Historical Cartography, Genealogy Studies, Cultural Heritage Preservation, History of Education, Comparative Mythology, Literary Translation Studies, Children's Literature, Young Adult Fiction, Graphic Literature, Postcolonial Literature, Satirical Literature, Romantic Poetry, Epic Narratives, Short Story Writing, Creative Nonfiction, Literary Awards, Literary Festivals, World Poetry, Translation Theory, Linguistic Diversity, Endangered Languages, Sign Linguistics, Comparative Linguistics, Language Preservation, Language Revitalization, Multilingual Education, Dialect Studies, Cultural Identity, Urban Subcultures, Counterculture Movements, Street Art, Graffiti Art, Digital Culture Trends, Suburban Studies, Diaspora Studies, Indigenous Rights, Ethnic Studies, Multiculturalism, Globalization Effects, Cultural Policy, Ritual Studies, Ceremony Analysis, Folklife Studies, Cultural Festivals, Traditional Crafts, Cultural Cuisine, Culinary Traditions, Folk Music Revival, Heritage Language Maintenance, Wildlife Biology, Conservation Policy, Environmental Impact Assessment, Ecological Restoration, Marine Conservation, Forest Management, Sustainable Forestry, Urban Green Spaces, Wastewater Treatment, Renewable Materials, Carbon Capture Technology, Climate Modeling, Ocean Acidification, Glaciology, Polar Research, Environmental Geology, Land Use Planning, Environmental Monitoring, Environmental Law, Sustainable Transportation, Astrology, Numerology, Parapsychology, Ufology, Cryptozoology, Urban Legends, Mythical Creatures, Supernatural Phenomena, Conspiracy Theories, Occult Studies, Esoteric Traditions, Magic Realism, Steampunk, Solarpunk, Dieselpunk, Biopunk, Afrofuturism, Retro Futurism, Street Photography, Fashion Photography, Documentary Photography, Macro Photography, Wildlife Photography, Underwater Photography, Digital Music Production, Biohacking, DIY Electronics, Arduino Projects, Raspberry Pi Projects, Internet of Bodies, Brain-Computer Interfaces, Neurotechnology, Smart Textiles, Sustainable Architecture, Urban Renewal, Digital Humanities, Computational Social Science, Social Network Analysis, Crowd Simulation, Spatial Data Analysis, Remote Sensing Applications, Digital Cartography, Earth Observation, Satellite Imagery Analysis, Climate Policy Analysis, Environmental Economics, Indie Filmmaking, Documentary Filmmaking, Animation Production, Stop Motion Animation, Motion Capture Technology, Cinematography Techniques, Film Scoring, Soundtrack Composition, Live Theater Performance, Stage Combat, Improvisational Theater, Musical Theater, Opera Production, Set Design Techniques, Costume Design Trends, Lighting Design Techniques, Stage Makeup, Visual Effects, Digital Compositing, Video Game Design, Level Design, Game Sound Design, Interactive Storytelling, Transmedia Storytelling, Podcast Production, Radio Drama, Stand-Up Comedy Writing, Improv Comedy, Sketch Comedy, Urban Gardening, Hydroponics, Aquaponics, Vertical Farming, Organic Pest Control, Food Preservation, Culinary Fusion, Molecular Gastronomy, Wine Making, Cheese Making, Bread Baking, Tea Culture, Coffee Culture, Chocolate Making, Diet and Lifestyle, Culinary History, Sustainable Packaging, Food Waste Reduction, Alternative Proteins, Plant-Based Diets, Astrochemistry, Biomechanics, Cognitive Science, Paleoclimatology, Behavioral Economics, Marine Geology\""
   ]
  },
  {
   "cell_type": "code",
   "execution_count": 16,
   "id": "8e556e3b-9894-458f-8ff2-47fa84957c85",
   "metadata": {},
   "outputs": [
    {
     "name": "stdout",
     "output_type": "stream",
     "text": [
      "999\n"
     ]
    }
   ],
   "source": [
    "def extract_unique_topics(input_string):\n",
    "\n",
    "    topics = input_string.split(',')\n",
    "    topics = [topic.strip().lower() for topic in topics]\n",
    "    unique_topics = set(topics)\n",
    "\n",
    "    return sorted(list(unique_topics))\n",
    "\n",
    "result = extract_unique_topics(topics)\n",
    "\n",
    "print(len(result))\n"
   ]
  },
  {
   "cell_type": "code",
   "execution_count": 45,
   "id": "7468fcce-88ff-4c4b-bb95-4db854214bd0",
   "metadata": {},
   "outputs": [
    {
     "name": "stdout",
     "output_type": "stream",
     "text": [
      "Talk about the afrofuturism (no more then 7 sentences!). No comments about the task. Just an answer. \n",
      "    For example if the topic is Moon, then your answer is smth like \"The moon is, ..., end.\" \n",
      "    Your answer:\n"
     ]
    }
   ],
   "source": [
    "questions = []\n",
    "for topic in result: \n",
    "    question = f\"\"\"Talk about the {topic} (no more then 7 sentences!). No comments about the task. Just an answer. \n",
    "    For example if the topic is Moon, then your answer is smth like \"The moon is, ..., end.\" \n",
    "    Your answer:\"\"\"\n",
    "    questions.append(question)\n",
    "    \n",
    "print(questions[10])\n"
   ]
  },
  {
   "cell_type": "code",
   "execution_count": 24,
   "id": "897c4152-2169-416e-9401-c3d560099954",
   "metadata": {},
   "outputs": [
    {
     "name": "stderr",
     "output_type": "stream",
     "text": [
      "Processed prompts: 100%|██████████████████████████████████████████████████████████████████████████████████████████████████████████████████| 999/999 [00:54<00:00, 18.43it/s, est. speed input: 999.93 toks/s, output: 3315.74 toks/s]\n"
     ]
    }
   ],
   "source": [
    "outputs = model.generate(questions, sampling_params=sampling_params)"
   ]
  },
  {
   "cell_type": "code",
   "execution_count": 20,
   "id": "8e12e7a3-a892-4911-956b-cdaf1fd203e9",
   "metadata": {},
   "outputs": [
    {
     "name": "stdout",
     "output_type": "stream",
     "text": [
      "RequestOutput(request_id=0, prompt='Talk about the 3d modeling (no more then 8 sentences!). After finishing add \\'####\" and that\\'s it, no text then. Your answer:', prompt_token_ids=[128000, 37310, 922, 279, 220, 18, 67, 34579, 320, 2201, 810, 1243, 220, 23, 23719, 43492, 4740, 25270, 923, 364, 827, 1, 323, 430, 596, 433, 11, 912, 1495, 1243, 13, 4718, 4320, 25], encoder_prompt=None, encoder_prompt_token_ids=None, prompt_logprobs=None, outputs=[CompletionOutput(index=0, text=' \\n####\\n\\n3D modeling is a process of creating a three-dimensional representation of an object or a scene using computer software. The process involves creating a digital model of an object, and then manipulating it using various tools and techniques. The goal of 3D modeling is to create a precise and accurate representation of the object or scene, which can then be used for various purposes such as animation, visualization, and product design. There are various types of 3D modeling, including polygon modeling, subdivision surface modeling, and NURBS modeling. Each type of modeling has its own strengths and weaknesses, and the choice of modeling technique depends on the specific requirements of the project. 3D modeling can be done manually, or using automated tools and software. The process involves creating a 3D mesh, which is a network of vertices, edges, and faces that make up the object. The mesh can be modified and manipulated using various tools and techniques, such as extrusions, subdivisions, and deform', token_ids=(720, 827, 271, 18, 35, 34579, 374, 264, 1920, 315, 6968, 264, 2380, 33520, 13340, 315, 459, 1665, 477, 264, 6237, 1701, 6500, 3241, 13, 578, 1920, 18065, 6968, 264, 7528, 1646, 315, 459, 1665, 11, 323, 1243, 63614, 433, 1701, 5370, 7526, 323, 12823, 13, 578, 5915, 315, 220, 18, 35, 34579, 374, 311, 1893, 264, 24473, 323, 13687, 13340, 315, 279, 1665, 477, 6237, 11, 902, 649, 1243, 387, 1511, 369, 5370, 10096, 1778, 439, 10571, 11, 42148, 11, 323, 2027, 2955, 13, 2684, 527, 5370, 4595, 315, 220, 18, 35, 34579, 11, 2737, 30472, 34579, 11, 60922, 7479, 34579, 11, 323, 452, 1539, 7497, 34579, 13, 9062, 955, 315, 34579, 706, 1202, 1866, 36486, 323, 44667, 11, 323, 279, 5873, 315, 34579, 15105, 14117, 389, 279, 3230, 8670, 315, 279, 2447, 13, 220, 18, 35, 34579, 649, 387, 2884, 20684, 11, 477, 1701, 28598, 7526, 323, 3241, 13, 578, 1920, 18065, 6968, 264, 220, 18, 35, 11546, 11, 902, 374, 264, 4009, 315, 17672, 11, 13116, 11, 323, 12580, 430, 1304, 709, 279, 1665, 13, 578, 11546, 649, 387, 11041, 323, 55315, 1701, 5370, 7526, 323, 12823, 11, 1778, 439, 11741, 36807, 11, 92545, 11, 323, 79212), cumulative_logprob=None, logprobs=None, finish_reason=length, stop_reason=None)], finished=True, metrics=RequestMetrics(arrival_time=1740071996.5201054, last_token_time=1740072010.8216035, first_scheduled_time=1740071996.7037716, first_token_time=1740071996.958147, time_in_queue=0.18366622924804688, finished_time=1740072010.826064, scheduler_time=0.9739082226296887, model_forward_time=None, model_execute_time=None), lora_request=None, num_cached_tokens=0, multi_modal_placeholders={})\n"
     ]
    }
   ],
   "source": [
    "print(outputs[0])"
   ]
  },
  {
   "cell_type": "code",
   "execution_count": 32,
   "id": "1b16078d-8f7d-4096-9bb2-aaba3020519b",
   "metadata": {},
   "outputs": [],
   "source": [
    "import re\n",
    "\n",
    "def extract_complete_sentences(text):\n",
    "    \"\"\"\n",
    "    Extracts the complete sentences from the given text.\n",
    "    If the last sentence does not end with a sentence-ending punctuation,\n",
    "    it is omitted.\n",
    "    \"\"\"\n",
    "    # Strip extra whitespace and split text into sentences based on punctuation.\n",
    "    sentences = re.split(r'(?<=[.!?])\\s+', text.strip())\n",
    "    \n",
    "    # Check if the last sentence ends with a proper punctuation.\n",
    "    if sentences and not re.search(r'[.!?]$', sentences[-1]):\n",
    "        sentences = sentences[:-1]\n",
    "    \n",
    "    # Rejoin the remaining sentences.\n",
    "    return \" \".join(sentences)"
   ]
  },
  {
   "cell_type": "code",
   "execution_count": 40,
   "id": "1b1acd27-6959-4eb0-b7b2-a09e995a8bc9",
   "metadata": {},
   "outputs": [],
   "source": [
    "j = 0\n",
    "\n",
    "simpletalks_questions = []\n",
    "simpletalks_answers = []\n",
    "\n",
    "for question, output in zip(questions, outputs):\n",
    "    \n",
    "    topic = result[j]\n",
    "    simpletalks_questions.append(f\"Talk about the {topic}. No more then 7 sentences.\")\n",
    "    text = extract_complete_sentences(output.outputs[0].text)\n",
    "    simpletalks_answers.append(text)\n",
    "    \n",
    "    j += 1"
   ]
  },
  {
   "cell_type": "code",
   "execution_count": 43,
   "id": "9fbc64ca-e442-498f-8bf4-e1a60721ab1e",
   "metadata": {},
   "outputs": [
    {
     "data": {
      "text/plain": [
       "'Talk about the sustainable packaging. No more then 7 sentences.'"
      ]
     },
     "execution_count": 43,
     "metadata": {},
     "output_type": "execute_result"
    }
   ],
   "source": [
    "simpletalks_questions[900]"
   ]
  },
  {
   "cell_type": "code",
   "execution_count": 44,
   "id": "1aa9a6b2-f324-4bd5-9ac8-540047e2c8f6",
   "metadata": {},
   "outputs": [
    {
     "data": {
      "text/plain": [
       "'Sustainable packaging is a type of packaging that is designed to be environmentally friendly and minimize waste. It can be made from biodegradable materials, recycled materials, or a combination of both. This type of packaging is becoming increasingly popular as consumers become more aware of the environmental impact of packaging waste. Companies are starting to use sustainable packaging to reduce their carbon footprint and to appeal to environmentally conscious consumers. There are many different types of sustainable packaging, including bioplastics, paper-based packaging, and refillable containers. Sustainable packaging can help reduce waste, conserve natural resources, and minimize the environmental impact of packaging. Overall, sustainable packaging is an important step towards a more sustainable future.'"
      ]
     },
     "execution_count": 44,
     "metadata": {},
     "output_type": "execute_result"
    }
   ],
   "source": [
    "simpletalks_answers[900]\n"
   ]
  },
  {
   "cell_type": "code",
   "execution_count": 46,
   "id": "b2be0bb0-97bd-4141-824c-d238f7f48b16",
   "metadata": {},
   "outputs": [
    {
     "name": "stderr",
     "output_type": "stream",
     "text": [
      "Processed prompts: 100%|██████████████████████████████████████████████████████████████████████████████████████████████████████████████████| 999/999 [00:54<00:00, 18.42it/s, est. speed input: 999.57 toks/s, output: 3343.46 toks/s]\n",
      "Processed prompts: 100%|██████████████████████████████████████████████████████████████████████████████████████████████████████████████████| 999/999 [00:54<00:00, 18.19it/s, est. speed input: 987.19 toks/s, output: 3282.14 toks/s]\n",
      "Processed prompts: 100%|██████████████████████████████████████████████████████████████████████████████████████████████████████████████████| 999/999 [00:55<00:00, 18.04it/s, est. speed input: 978.74 toks/s, output: 3260.39 toks/s]\n",
      "Processed prompts: 100%|██████████████████████████████████████████████████████████████████████████████████████████████████████████████████| 999/999 [00:55<00:00, 18.04it/s, est. speed input: 978.73 toks/s, output: 3242.46 toks/s]\n",
      "Processed prompts: 100%|██████████████████████████████████████████████████████████████████████████████████████████████████████████████████| 999/999 [00:56<00:00, 17.82it/s, est. speed input: 967.06 toks/s, output: 3236.99 toks/s]\n",
      "Processed prompts: 100%|██████████████████████████████████████████████████████████████████████████████████████████████████████████████████| 999/999 [00:55<00:00, 18.00it/s, est. speed input: 976.66 toks/s, output: 3254.14 toks/s]\n",
      "Processed prompts: 100%|██████████████████████████████████████████████████████████████████████████████████████████████████████████████████| 999/999 [00:55<00:00, 17.95it/s, est. speed input: 974.12 toks/s, output: 3250.82 toks/s]\n",
      "Processed prompts: 100%|██████████████████████████████████████████████████████████████████████████████████████████████████████████████████| 999/999 [00:55<00:00, 17.86it/s, est. speed input: 968.97 toks/s, output: 3239.70 toks/s]\n",
      "Processed prompts: 100%|██████████████████████████████████████████████████████████████████████████████████████████████████████████████████| 999/999 [00:55<00:00, 17.91it/s, est. speed input: 971.87 toks/s, output: 3243.83 toks/s]\n",
      "Processed prompts: 100%|██████████████████████████████████████████████████████████████████████████████████████████████████████████████████| 999/999 [00:55<00:00, 18.01it/s, est. speed input: 977.17 toks/s, output: 3243.30 toks/s]\n",
      "Processed prompts: 100%|██████████████████████████████████████████████████████████████████████████████████████████████████████████████████| 999/999 [00:55<00:00, 17.94it/s, est. speed input: 973.26 toks/s, output: 3249.72 toks/s]\n",
      "Processed prompts: 100%|██████████████████████████████████████████████████████████████████████████████████████████████████████████████████| 999/999 [00:55<00:00, 17.89it/s, est. speed input: 970.98 toks/s, output: 3235.87 toks/s]\n",
      "Processed prompts: 100%|██████████████████████████████████████████████████████████████████████████████████████████████████████████████████| 999/999 [00:55<00:00, 17.96it/s, est. speed input: 974.56 toks/s, output: 3247.42 toks/s]\n",
      "Processed prompts: 100%|██████████████████████████████████████████████████████████████████████████████████████████████████████████████████| 999/999 [00:55<00:00, 17.94it/s, est. speed input: 973.35 toks/s, output: 3252.27 toks/s]\n",
      "Processed prompts: 100%|██████████████████████████████████████████████████████████████████████████████████████████████████████████████████| 999/999 [00:55<00:00, 17.90it/s, est. speed input: 971.16 toks/s, output: 3225.44 toks/s]\n",
      "Processed prompts: 100%|██████████████████████████████████████████████████████████████████████████████████████████████████████████████████| 999/999 [00:55<00:00, 18.00it/s, est. speed input: 976.95 toks/s, output: 3241.81 toks/s]\n",
      "Processed prompts: 100%|██████████████████████████████████████████████████████████████████████████████████████████████████████████████████| 999/999 [00:55<00:00, 17.96it/s, est. speed input: 974.44 toks/s, output: 3242.61 toks/s]\n",
      "Processed prompts: 100%|██████████████████████████████████████████████████████████████████████████████████████████████████████████████████| 999/999 [00:55<00:00, 17.95it/s, est. speed input: 974.06 toks/s, output: 3245.05 toks/s]\n",
      "Processed prompts: 100%|██████████████████████████████████████████████████████████████████████████████████████████████████████████████████| 999/999 [00:55<00:00, 18.00it/s, est. speed input: 976.77 toks/s, output: 3240.64 toks/s]\n",
      "Processed prompts: 100%|██████████████████████████████████████████████████████████████████████████████████████████████████████████████████| 999/999 [00:55<00:00, 17.90it/s, est. speed input: 971.08 toks/s, output: 3239.96 toks/s]\n"
     ]
    }
   ],
   "source": [
    "simpletalks_questions = []\n",
    "simpletalks_answers = []\n",
    "\n",
    "for k in range(0,20):\n",
    "    \n",
    "    outputs = model.generate(questions, sampling_params=sampling_params)\n",
    "    j = 0\n",
    "    \n",
    "    for question, output in zip(questions, outputs):\n",
    "    \n",
    "        topic = result[j]\n",
    "        simpletalks_questions.append(f\"Talk about the {topic}. No more then 7 sentences.\")\n",
    "        text = extract_complete_sentences(output.outputs[0].text)\n",
    "        simpletalks_answers.append(text)\n",
    "        \n",
    "        j += 1\n",
    "    "
   ]
  },
  {
   "cell_type": "code",
   "execution_count": 58,
   "id": "c603fda4-fddd-4275-a40b-17ff0f502418",
   "metadata": {},
   "outputs": [
    {
     "name": "stdout",
     "output_type": "stream",
     "text": [
      "Talk about the instrumental music. No more then 7 sentences.\n",
      "The instrumental music is a type of music that is performed solely by instruments, without any vocals or lyrics. It can range from classical music, jazz, rock, and pop to electronic and experimental music. Instrumental music often features a wide range of instruments, such as pianos, guitars, violins, and drums. Some notable examples of instrumental music include film scores, electronic dance music (EDM), and video game soundtracks. The use of instrumental music has become increasingly popular in recent years, particularly in commercials, trailers, and sporting events. This is due to its ability to evoke emotions and create a sense of atmosphere. The genre is diverse and has evolved over time, incorporating new sounds and styles. The music is usually performed live, with a group of musicians playing together in a single location. However, many instrumental pieces are also recorded in studios, using a variety of techniques and equipment.\n"
     ]
    }
   ],
   "source": [
    "print(simpletalks_questions[500])\n",
    "print(simpletalks_answers[500])"
   ]
  },
  {
   "cell_type": "code",
   "execution_count": 59,
   "id": "2cde5820-d337-43e0-9d3e-aef22f5935ce",
   "metadata": {},
   "outputs": [
    {
     "name": "stdout",
     "output_type": "stream",
     "text": [
      "Talk about the instrumental music. No more then 7 sentences.\n",
      "The instrumental music has a calming effect on people, often used in movies and commercials to create a soothing atmosphere. It typically features a combination of melodic and harmonic elements, such as piano, guitar, and strings. The tempo and dynamics of instrumental music can vary greatly, from fast-paced and energetic to slow and contemplative. Some popular instrumental styles include film scores, electronic, and lo-fi music. Instrumental music can also be used to enhance the mood and atmosphere of a scene or situation. It is often used in video games and television shows to create a sense of tension or excitement. In recent years, the rise of YouTube and streaming platforms has made it easier for instrumental musicians to share their music with a global audience. Some notable instrumental artists include Brian Eno, Max Richter, and Ludovico Einaudi.\n"
     ]
    }
   ],
   "source": [
    "print(simpletalks_questions[500+999])\n",
    "print(simpletalks_answers[500+999])"
   ]
  },
  {
   "cell_type": "code",
   "execution_count": 60,
   "id": "e0a60953-ab32-44e7-a24d-417ba9aaa6be",
   "metadata": {},
   "outputs": [
    {
     "name": "stdout",
     "output_type": "stream",
     "text": [
      "Talk about the instrumental music. No more then 7 sentences.\n",
      "The music is contemporary, with influences from jazz, funk, and soul. The sound is energetic and upbeat, with a strong emphasis on rhythm and groove. The use of synthesizers and keyboards adds a bright and modern feel to the music. The instrumental tracks often feature a mix of electronic and organic elements, creating a unique sound that is both nostalgic and forward-thinking. The music is highly danceable, with a focus on getting people on the floor and moving. The use of horn sections and percussion adds a layer of depth and complexity to the music. Overall, the music is a fusion of classic and modern styles, creating a sound that is both timeless and cutting-edge.\n"
     ]
    }
   ],
   "source": [
    "print(simpletalks_questions[500+999+999+999])\n",
    "print(simpletalks_answers[500+999+999+999])"
   ]
  },
  {
   "cell_type": "code",
   "execution_count": null,
   "id": "7926f550-7a9e-4594-ae5f-f36c8b6336db",
   "metadata": {},
   "outputs": [],
   "source": []
  },
  {
   "cell_type": "code",
   "execution_count": 53,
   "id": "343ccf85-efb5-444d-8b07-b318ffdd7fc2",
   "metadata": {
    "collapsed": true,
    "jupyter": {
     "outputs_hidden": true
    },
    "scrolled": true
   },
   "outputs": [
    {
     "name": "stderr",
     "output_type": "stream",
     "text": [
      "huggingface/tokenizers: The current process just got forked, after parallelism has already been used. Disabling parallelism to avoid deadlocks...\n",
      "To disable this warning, you can either:\n",
      "\t- Avoid using `tokenizers` before the fork if possible\n",
      "\t- Explicitly set the environment variable TOKENIZERS_PARALLELISM=(true | false)\n"
     ]
    },
    {
     "name": "stdout",
     "output_type": "stream",
     "text": [
      "Collecting datasets\n",
      "  Downloading datasets-3.3.2-py3-none-any.whl.metadata (19 kB)\n",
      "Requirement already satisfied: filelock in ./miniconda3/envs/vllm_env/lib/python3.10/site-packages (from datasets) (3.17.0)\n",
      "Requirement already satisfied: numpy>=1.17 in ./miniconda3/envs/vllm_env/lib/python3.10/site-packages (from datasets) (1.26.4)\n",
      "Collecting pyarrow>=15.0.0 (from datasets)\n",
      "  Downloading pyarrow-19.0.1-cp310-cp310-manylinux_2_28_x86_64.whl.metadata (3.3 kB)\n",
      "Collecting dill<0.3.9,>=0.3.0 (from datasets)\n",
      "  Downloading dill-0.3.8-py3-none-any.whl.metadata (10 kB)\n",
      "Collecting pandas (from datasets)\n",
      "  Downloading pandas-2.2.3-cp310-cp310-manylinux_2_17_x86_64.manylinux2014_x86_64.whl.metadata (89 kB)\n",
      "Requirement already satisfied: requests>=2.32.2 in ./miniconda3/envs/vllm_env/lib/python3.10/site-packages (from datasets) (2.32.3)\n",
      "Requirement already satisfied: tqdm>=4.66.3 in ./miniconda3/envs/vllm_env/lib/python3.10/site-packages (from datasets) (4.67.1)\n",
      "Collecting xxhash (from datasets)\n",
      "  Downloading xxhash-3.5.0-cp310-cp310-manylinux_2_17_x86_64.manylinux2014_x86_64.whl.metadata (12 kB)\n",
      "Collecting multiprocess<0.70.17 (from datasets)\n",
      "  Downloading multiprocess-0.70.16-py310-none-any.whl.metadata (7.2 kB)\n",
      "Collecting fsspec<=2024.12.0,>=2023.1.0 (from fsspec[http]<=2024.12.0,>=2023.1.0->datasets)\n",
      "  Downloading fsspec-2024.12.0-py3-none-any.whl.metadata (11 kB)\n",
      "Requirement already satisfied: aiohttp in ./miniconda3/envs/vllm_env/lib/python3.10/site-packages (from datasets) (3.11.12)\n",
      "Requirement already satisfied: huggingface-hub>=0.24.0 in ./miniconda3/envs/vllm_env/lib/python3.10/site-packages (from datasets) (0.29.1)\n",
      "Requirement already satisfied: packaging in ./miniconda3/envs/vllm_env/lib/python3.10/site-packages (from datasets) (24.2)\n",
      "Requirement already satisfied: pyyaml>=5.1 in ./miniconda3/envs/vllm_env/lib/python3.10/site-packages (from datasets) (6.0.2)\n",
      "Requirement already satisfied: aiohappyeyeballs>=2.3.0 in ./miniconda3/envs/vllm_env/lib/python3.10/site-packages (from aiohttp->datasets) (2.4.6)\n",
      "Requirement already satisfied: aiosignal>=1.1.2 in ./miniconda3/envs/vllm_env/lib/python3.10/site-packages (from aiohttp->datasets) (1.3.2)\n",
      "Requirement already satisfied: async-timeout<6.0,>=4.0 in ./miniconda3/envs/vllm_env/lib/python3.10/site-packages (from aiohttp->datasets) (5.0.1)\n",
      "Requirement already satisfied: attrs>=17.3.0 in ./miniconda3/envs/vllm_env/lib/python3.10/site-packages (from aiohttp->datasets) (25.1.0)\n",
      "Requirement already satisfied: frozenlist>=1.1.1 in ./miniconda3/envs/vllm_env/lib/python3.10/site-packages (from aiohttp->datasets) (1.5.0)\n",
      "Requirement already satisfied: multidict<7.0,>=4.5 in ./miniconda3/envs/vllm_env/lib/python3.10/site-packages (from aiohttp->datasets) (6.1.0)\n",
      "Requirement already satisfied: propcache>=0.2.0 in ./miniconda3/envs/vllm_env/lib/python3.10/site-packages (from aiohttp->datasets) (0.2.1)\n",
      "Requirement already satisfied: yarl<2.0,>=1.17.0 in ./miniconda3/envs/vllm_env/lib/python3.10/site-packages (from aiohttp->datasets) (1.18.3)\n",
      "Requirement already satisfied: typing-extensions>=3.7.4.3 in ./miniconda3/envs/vllm_env/lib/python3.10/site-packages (from huggingface-hub>=0.24.0->datasets) (4.12.2)\n",
      "Requirement already satisfied: charset-normalizer<4,>=2 in ./miniconda3/envs/vllm_env/lib/python3.10/site-packages (from requests>=2.32.2->datasets) (3.4.1)\n",
      "Requirement already satisfied: idna<4,>=2.5 in ./miniconda3/envs/vllm_env/lib/python3.10/site-packages (from requests>=2.32.2->datasets) (3.10)\n",
      "Requirement already satisfied: urllib3<3,>=1.21.1 in ./miniconda3/envs/vllm_env/lib/python3.10/site-packages (from requests>=2.32.2->datasets) (2.3.0)\n",
      "Requirement already satisfied: certifi>=2017.4.17 in ./miniconda3/envs/vllm_env/lib/python3.10/site-packages (from requests>=2.32.2->datasets) (2025.1.31)\n",
      "Requirement already satisfied: python-dateutil>=2.8.2 in ./miniconda3/envs/vllm_env/lib/python3.10/site-packages (from pandas->datasets) (2.9.0.post0)\n",
      "Collecting pytz>=2020.1 (from pandas->datasets)\n",
      "  Downloading pytz-2025.1-py2.py3-none-any.whl.metadata (22 kB)\n",
      "Collecting tzdata>=2022.7 (from pandas->datasets)\n",
      "  Downloading tzdata-2025.1-py2.py3-none-any.whl.metadata (1.4 kB)\n",
      "Requirement already satisfied: six>=1.5 in ./miniconda3/envs/vllm_env/lib/python3.10/site-packages (from python-dateutil>=2.8.2->pandas->datasets) (1.17.0)\n",
      "Downloading datasets-3.3.2-py3-none-any.whl (485 kB)\n",
      "Downloading dill-0.3.8-py3-none-any.whl (116 kB)\n",
      "Downloading fsspec-2024.12.0-py3-none-any.whl (183 kB)\n",
      "Downloading multiprocess-0.70.16-py310-none-any.whl (134 kB)\n",
      "Downloading pyarrow-19.0.1-cp310-cp310-manylinux_2_28_x86_64.whl (42.1 MB)\n",
      "\u001b[2K   \u001b[38;2;114;156;31m━━━━━━━━━━━━━━━━━━━━━━━━━━━━━━━━━━━━━━━━\u001b[0m \u001b[32m42.1/42.1 MB\u001b[0m \u001b[31m15.1 MB/s\u001b[0m eta \u001b[36m0:00:00\u001b[0mm eta \u001b[36m0:00:01\u001b[0m0:01\u001b[0m:01\u001b[0m\n",
      "Downloading pandas-2.2.3-cp310-cp310-manylinux_2_17_x86_64.manylinux2014_x86_64.whl (13.1 MB)\n",
      "\u001b[2K   \u001b[38;2;114;156;31m━━━━━━━━━━━━━━━━━━━━━━━━━━━━━━━━━━━━━━━━\u001b[0m \u001b[32m13.1/13.1 MB\u001b[0m \u001b[31m21.6 MB/s\u001b[0m eta \u001b[36m0:00:00\u001b[0m[36m0:00:01\u001b[0m36m0:00:01\u001b[0m\n",
      "Downloading xxhash-3.5.0-cp310-cp310-manylinux_2_17_x86_64.manylinux2014_x86_64.whl (194 kB)\n",
      "Downloading pytz-2025.1-py2.py3-none-any.whl (507 kB)\n",
      "Downloading tzdata-2025.1-py2.py3-none-any.whl (346 kB)\n",
      "Installing collected packages: pytz, xxhash, tzdata, pyarrow, fsspec, dill, pandas, multiprocess, datasets\n",
      "  Attempting uninstall: fsspec\n",
      "    Found existing installation: fsspec 2025.2.0\n",
      "    Uninstalling fsspec-2025.2.0:\n",
      "      Successfully uninstalled fsspec-2025.2.0\n",
      "  Attempting uninstall: dill\n",
      "    Found existing installation: dill 0.3.9\n",
      "    Uninstalling dill-0.3.9:\n",
      "      Successfully uninstalled dill-0.3.9\n",
      "Successfully installed datasets-3.3.2 dill-0.3.8 fsspec-2024.12.0 multiprocess-0.70.16 pandas-2.2.3 pyarrow-19.0.1 pytz-2025.1 tzdata-2025.1 xxhash-3.5.0\n",
      "\u001b[33mWARNING: Running pip as the 'root' user can result in broken permissions and conflicting behaviour with the system package manager, possibly rendering your system unusable. It is recommended to use a virtual environment instead: https://pip.pypa.io/warnings/venv. Use the --root-user-action option if you know what you are doing and want to suppress this warning.\u001b[0m\u001b[33m\n",
      "\u001b[0m"
     ]
    }
   ],
   "source": [
    "!pip install datasets"
   ]
  },
  {
   "cell_type": "code",
   "execution_count": 54,
   "id": "f029d11f-5f2c-4569-afe3-c02442806e55",
   "metadata": {},
   "outputs": [],
   "source": [
    "from datasets import Dataset"
   ]
  },
  {
   "cell_type": "code",
   "execution_count": 55,
   "id": "4e460e19-8bc2-492b-aa52-5b468bf93d6e",
   "metadata": {},
   "outputs": [
    {
     "data": {
      "application/vnd.jupyter.widget-view+json": {
       "model_id": "cd853d75dd25484094c41d486e670bc8",
       "version_major": 2,
       "version_minor": 0
      },
      "text/plain": [
       "Saving the dataset (0/1 shards):   0%|          | 0/19980 [00:00<?, ? examples/s]"
      ]
     },
     "metadata": {},
     "output_type": "display_data"
    }
   ],
   "source": [
    "data = {\"question\": simpletalks_questions, \"answer\": simpletalks_answers}\n",
    "\n",
    "dataset = Dataset.from_dict(data)\n",
    "dataset.save_to_disk(\"sQA_dataset\")\n",
    "\n",
    "# Later, you can load it with:\n",
    "#loaded_dataset = Dataset.load_from_disk(\"path/to/your/dataset\")"
   ]
  },
  {
   "cell_type": "code",
   "execution_count": 56,
   "id": "0ded5fd6-cfb5-414c-a0bd-166a4e99521f",
   "metadata": {},
   "outputs": [],
   "source": [
    "loaded_dataset = Dataset.load_from_disk(\"sQA_dataset\")"
   ]
  },
  {
   "cell_type": "code",
   "execution_count": 57,
   "id": "f2f29232-541b-4989-8bc0-6dea45e6529a",
   "metadata": {},
   "outputs": [
    {
     "name": "stdout",
     "output_type": "stream",
     "text": [
      "Dataset({\n",
      "    features: ['question', 'answer'],\n",
      "    num_rows: 19980\n",
      "})\n"
     ]
    }
   ],
   "source": [
    "print(loaded_dataset)"
   ]
  },
  {
   "cell_type": "code",
   "execution_count": null,
   "id": "24614c12-ec82-4320-9907-a6bafa5b1b09",
   "metadata": {},
   "outputs": [],
   "source": []
  }
 ],
 "metadata": {
  "kernelspec": {
   "display_name": "Python 3 (ipykernel)",
   "language": "python",
   "name": "python3"
  },
  "language_info": {
   "codemirror_mode": {
    "name": "ipython",
    "version": 3
   },
   "file_extension": ".py",
   "mimetype": "text/x-python",
   "name": "python",
   "nbconvert_exporter": "python",
   "pygments_lexer": "ipython3",
   "version": "3.10.12"
  }
 },
 "nbformat": 4,
 "nbformat_minor": 5
}
